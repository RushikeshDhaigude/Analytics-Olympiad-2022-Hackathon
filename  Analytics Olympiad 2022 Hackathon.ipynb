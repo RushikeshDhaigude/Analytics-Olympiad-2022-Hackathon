{
 "cells": [
  {
   "cell_type": "markdown",
   "id": "ff54d3ec",
   "metadata": {},
   "source": [
    "# Analytics Olympiad 2022 Hackathon"
   ]
  },
  {
   "cell_type": "code",
   "execution_count": 122,
   "id": "95b5d6fb",
   "metadata": {},
   "outputs": [],
   "source": [
    "## Importing the libraries\n",
    "import numpy as np\n",
    "import pandas as pd\n",
    "import seaborn as sns\n",
    "import matplotlib.pyplot as plt\n",
    "from scipy import stats\n",
    "\n",
    "from sklearn.preprocessing import LabelEncoder,OneHotEncoder\n",
    "from sklearn.model_selection import train_test_split\n",
    "from sklearn.linear_model import LogisticRegression\n",
    "from sklearn.metrics import confusion_matrix\n",
    "from sklearn.metrics import accuracy_score,f1_score,log_loss,classification_report\n",
    "from sklearn import svm\n",
    "\n",
    "from warnings import filterwarnings\n",
    "filterwarnings('ignore')"
   ]
  },
  {
   "cell_type": "code",
   "execution_count": 123,
   "id": "80868f18",
   "metadata": {},
   "outputs": [
    {
     "data": {
      "text/html": [
       "<div>\n",
       "<style scoped>\n",
       "    .dataframe tbody tr th:only-of-type {\n",
       "        vertical-align: middle;\n",
       "    }\n",
       "\n",
       "    .dataframe tbody tr th {\n",
       "        vertical-align: top;\n",
       "    }\n",
       "\n",
       "    .dataframe thead th {\n",
       "        text-align: right;\n",
       "    }\n",
       "</style>\n",
       "<table border=\"1\" class=\"dataframe\">\n",
       "  <thead>\n",
       "    <tr style=\"text-align: right;\">\n",
       "      <th></th>\n",
       "      <th>ID</th>\n",
       "      <th>AGE</th>\n",
       "      <th>GENDER</th>\n",
       "      <th>DRIVING_EXPERIENCE</th>\n",
       "      <th>EDUCATION</th>\n",
       "      <th>INCOME</th>\n",
       "      <th>CREDIT_SCORE</th>\n",
       "      <th>VEHICLE_OWNERSHIP</th>\n",
       "      <th>VEHICLE_YEAR</th>\n",
       "      <th>MARRIED</th>\n",
       "      <th>CHILDREN</th>\n",
       "      <th>POSTAL_CODE</th>\n",
       "      <th>ANNUAL_MILEAGE</th>\n",
       "      <th>SPEEDING_VIOLATIONS</th>\n",
       "      <th>DUIS</th>\n",
       "      <th>PAST_ACCIDENTS</th>\n",
       "      <th>OUTCOME</th>\n",
       "      <th>TYPE_OF_VEHICLE</th>\n",
       "    </tr>\n",
       "  </thead>\n",
       "  <tbody>\n",
       "    <tr>\n",
       "      <th>0</th>\n",
       "      <td>816393</td>\n",
       "      <td>40-64</td>\n",
       "      <td>female</td>\n",
       "      <td>20-29y</td>\n",
       "      <td>university</td>\n",
       "      <td>middle class</td>\n",
       "      <td>0.638050</td>\n",
       "      <td>0.0</td>\n",
       "      <td>after 2015</td>\n",
       "      <td>0.0</td>\n",
       "      <td>0.0</td>\n",
       "      <td>37379</td>\n",
       "      <td>11000.0</td>\n",
       "      <td>0</td>\n",
       "      <td>0</td>\n",
       "      <td>0</td>\n",
       "      <td>0.0</td>\n",
       "      <td>Sports Car</td>\n",
       "    </tr>\n",
       "    <tr>\n",
       "      <th>1</th>\n",
       "      <td>251762</td>\n",
       "      <td>26-39</td>\n",
       "      <td>male</td>\n",
       "      <td>20-29y</td>\n",
       "      <td>high school</td>\n",
       "      <td>middle class</td>\n",
       "      <td>0.475741</td>\n",
       "      <td>1.0</td>\n",
       "      <td>before 2015</td>\n",
       "      <td>1.0</td>\n",
       "      <td>0.0</td>\n",
       "      <td>10238</td>\n",
       "      <td>9000.0</td>\n",
       "      <td>0</td>\n",
       "      <td>0</td>\n",
       "      <td>0</td>\n",
       "      <td>1.0</td>\n",
       "      <td>HatchBack</td>\n",
       "    </tr>\n",
       "    <tr>\n",
       "      <th>2</th>\n",
       "      <td>481952</td>\n",
       "      <td>40-64</td>\n",
       "      <td>male</td>\n",
       "      <td>20-29y</td>\n",
       "      <td>none</td>\n",
       "      <td>middle class</td>\n",
       "      <td>0.839817</td>\n",
       "      <td>1.0</td>\n",
       "      <td>before 2015</td>\n",
       "      <td>1.0</td>\n",
       "      <td>1.0</td>\n",
       "      <td>10238</td>\n",
       "      <td>12000.0</td>\n",
       "      <td>0</td>\n",
       "      <td>0</td>\n",
       "      <td>0</td>\n",
       "      <td>1.0</td>\n",
       "      <td>Sedan</td>\n",
       "    </tr>\n",
       "    <tr>\n",
       "      <th>3</th>\n",
       "      <td>3506</td>\n",
       "      <td>40-64</td>\n",
       "      <td>male</td>\n",
       "      <td>20-29y</td>\n",
       "      <td>high school</td>\n",
       "      <td>upper class</td>\n",
       "      <td>0.682527</td>\n",
       "      <td>1.0</td>\n",
       "      <td>before 2015</td>\n",
       "      <td>0.0</td>\n",
       "      <td>1.0</td>\n",
       "      <td>92099</td>\n",
       "      <td>6000.0</td>\n",
       "      <td>1</td>\n",
       "      <td>0</td>\n",
       "      <td>0</td>\n",
       "      <td>1.0</td>\n",
       "      <td>Sedan</td>\n",
       "    </tr>\n",
       "    <tr>\n",
       "      <th>4</th>\n",
       "      <td>498013</td>\n",
       "      <td>40-64</td>\n",
       "      <td>female</td>\n",
       "      <td>20-29y</td>\n",
       "      <td>none</td>\n",
       "      <td>working class</td>\n",
       "      <td>0.572184</td>\n",
       "      <td>1.0</td>\n",
       "      <td>after 2015</td>\n",
       "      <td>1.0</td>\n",
       "      <td>1.0</td>\n",
       "      <td>32122</td>\n",
       "      <td>15000.0</td>\n",
       "      <td>0</td>\n",
       "      <td>0</td>\n",
       "      <td>1</td>\n",
       "      <td>0.0</td>\n",
       "      <td>Sedan</td>\n",
       "    </tr>\n",
       "  </tbody>\n",
       "</table>\n",
       "</div>"
      ],
      "text/plain": [
       "       ID    AGE  GENDER DRIVING_EXPERIENCE    EDUCATION         INCOME  \\\n",
       "0  816393  40-64  female             20-29y   university   middle class   \n",
       "1  251762  26-39    male             20-29y  high school   middle class   \n",
       "2  481952  40-64    male             20-29y         none   middle class   \n",
       "3    3506  40-64    male             20-29y  high school    upper class   \n",
       "4  498013  40-64  female             20-29y         none  working class   \n",
       "\n",
       "   CREDIT_SCORE  VEHICLE_OWNERSHIP VEHICLE_YEAR  MARRIED  CHILDREN  \\\n",
       "0      0.638050                0.0   after 2015      0.0       0.0   \n",
       "1      0.475741                1.0  before 2015      1.0       0.0   \n",
       "2      0.839817                1.0  before 2015      1.0       1.0   \n",
       "3      0.682527                1.0  before 2015      0.0       1.0   \n",
       "4      0.572184                1.0   after 2015      1.0       1.0   \n",
       "\n",
       "   POSTAL_CODE  ANNUAL_MILEAGE  SPEEDING_VIOLATIONS  DUIS  PAST_ACCIDENTS  \\\n",
       "0        37379         11000.0                    0     0               0   \n",
       "1        10238          9000.0                    0     0               0   \n",
       "2        10238         12000.0                    0     0               0   \n",
       "3        92099          6000.0                    1     0               0   \n",
       "4        32122         15000.0                    0     0               1   \n",
       "\n",
       "   OUTCOME TYPE_OF_VEHICLE  \n",
       "0      0.0      Sports Car  \n",
       "1      1.0       HatchBack  \n",
       "2      1.0           Sedan  \n",
       "3      1.0           Sedan  \n",
       "4      0.0           Sedan  "
      ]
     },
     "execution_count": 123,
     "metadata": {},
     "output_type": "execute_result"
    }
   ],
   "source": [
    "df_train = pd.read_csv(r\"C:\\Users\\Shree\\Desktop\\DS Projects\\Analytics Olymipad\\AnalyticsOlympiad2022Data\\train.csv\")\n",
    "df_train.head()"
   ]
  },
  {
   "cell_type": "code",
   "execution_count": 124,
   "id": "96919a33",
   "metadata": {},
   "outputs": [
    {
     "data": {
      "text/html": [
       "<div>\n",
       "<style scoped>\n",
       "    .dataframe tbody tr th:only-of-type {\n",
       "        vertical-align: middle;\n",
       "    }\n",
       "\n",
       "    .dataframe tbody tr th {\n",
       "        vertical-align: top;\n",
       "    }\n",
       "\n",
       "    .dataframe thead th {\n",
       "        text-align: right;\n",
       "    }\n",
       "</style>\n",
       "<table border=\"1\" class=\"dataframe\">\n",
       "  <thead>\n",
       "    <tr style=\"text-align: right;\">\n",
       "      <th></th>\n",
       "      <th>ID</th>\n",
       "      <th>AGE</th>\n",
       "      <th>GENDER</th>\n",
       "      <th>DRIVING_EXPERIENCE</th>\n",
       "      <th>EDUCATION</th>\n",
       "      <th>INCOME</th>\n",
       "      <th>CREDIT_SCORE</th>\n",
       "      <th>VEHICLE_OWNERSHIP</th>\n",
       "      <th>VEHICLE_YEAR</th>\n",
       "      <th>MARRIED</th>\n",
       "      <th>CHILDREN</th>\n",
       "      <th>POSTAL_CODE</th>\n",
       "      <th>ANNUAL_MILEAGE</th>\n",
       "      <th>SPEEDING_VIOLATIONS</th>\n",
       "      <th>DUIS</th>\n",
       "      <th>PAST_ACCIDENTS</th>\n",
       "      <th>TYPE_OF_VEHICLE</th>\n",
       "    </tr>\n",
       "  </thead>\n",
       "  <tbody>\n",
       "    <tr>\n",
       "      <th>0</th>\n",
       "      <td>352928</td>\n",
       "      <td>40-64</td>\n",
       "      <td>male</td>\n",
       "      <td>10-19y</td>\n",
       "      <td>none</td>\n",
       "      <td>working class</td>\n",
       "      <td>0.814707</td>\n",
       "      <td>1.0</td>\n",
       "      <td>after 2015</td>\n",
       "      <td>0.0</td>\n",
       "      <td>1.0</td>\n",
       "      <td>10238</td>\n",
       "      <td>10000.0</td>\n",
       "      <td>0</td>\n",
       "      <td>0</td>\n",
       "      <td>0</td>\n",
       "      <td>HatchBack</td>\n",
       "    </tr>\n",
       "    <tr>\n",
       "      <th>1</th>\n",
       "      <td>38579</td>\n",
       "      <td>26-39</td>\n",
       "      <td>female</td>\n",
       "      <td>20-29y</td>\n",
       "      <td>high school</td>\n",
       "      <td>upper class</td>\n",
       "      <td>0.344051</td>\n",
       "      <td>1.0</td>\n",
       "      <td>before 2015</td>\n",
       "      <td>0.0</td>\n",
       "      <td>0.0</td>\n",
       "      <td>34073</td>\n",
       "      <td>13000.0</td>\n",
       "      <td>0</td>\n",
       "      <td>0</td>\n",
       "      <td>0</td>\n",
       "      <td>Sedan</td>\n",
       "    </tr>\n",
       "    <tr>\n",
       "      <th>2</th>\n",
       "      <td>504022</td>\n",
       "      <td>40-64</td>\n",
       "      <td>male</td>\n",
       "      <td>10-19y</td>\n",
       "      <td>none</td>\n",
       "      <td>upper class</td>\n",
       "      <td>0.620691</td>\n",
       "      <td>0.0</td>\n",
       "      <td>after 2015</td>\n",
       "      <td>1.0</td>\n",
       "      <td>0.0</td>\n",
       "      <td>10238</td>\n",
       "      <td>12000.0</td>\n",
       "      <td>0</td>\n",
       "      <td>0</td>\n",
       "      <td>0</td>\n",
       "      <td>SUV</td>\n",
       "    </tr>\n",
       "    <tr>\n",
       "      <th>3</th>\n",
       "      <td>202404</td>\n",
       "      <td>26-39</td>\n",
       "      <td>male</td>\n",
       "      <td>20-29y</td>\n",
       "      <td>high school</td>\n",
       "      <td>upper class</td>\n",
       "      <td>0.689658</td>\n",
       "      <td>1.0</td>\n",
       "      <td>after 2015</td>\n",
       "      <td>1.0</td>\n",
       "      <td>1.0</td>\n",
       "      <td>10238</td>\n",
       "      <td>16000.0</td>\n",
       "      <td>1</td>\n",
       "      <td>0</td>\n",
       "      <td>0</td>\n",
       "      <td>SUV</td>\n",
       "    </tr>\n",
       "    <tr>\n",
       "      <th>4</th>\n",
       "      <td>527913</td>\n",
       "      <td>65+</td>\n",
       "      <td>male</td>\n",
       "      <td>10-19y</td>\n",
       "      <td>none</td>\n",
       "      <td>middle class</td>\n",
       "      <td>0.755666</td>\n",
       "      <td>0.0</td>\n",
       "      <td>after 2015</td>\n",
       "      <td>0.0</td>\n",
       "      <td>1.0</td>\n",
       "      <td>92101</td>\n",
       "      <td>14000.0</td>\n",
       "      <td>2</td>\n",
       "      <td>0</td>\n",
       "      <td>0</td>\n",
       "      <td>HatchBack</td>\n",
       "    </tr>\n",
       "  </tbody>\n",
       "</table>\n",
       "</div>"
      ],
      "text/plain": [
       "       ID    AGE  GENDER DRIVING_EXPERIENCE    EDUCATION         INCOME  \\\n",
       "0  352928  40-64    male             10-19y         none  working class   \n",
       "1   38579  26-39  female             20-29y  high school    upper class   \n",
       "2  504022  40-64    male             10-19y         none    upper class   \n",
       "3  202404  26-39    male             20-29y  high school    upper class   \n",
       "4  527913    65+    male             10-19y         none   middle class   \n",
       "\n",
       "   CREDIT_SCORE  VEHICLE_OWNERSHIP VEHICLE_YEAR  MARRIED  CHILDREN  \\\n",
       "0      0.814707                1.0   after 2015      0.0       1.0   \n",
       "1      0.344051                1.0  before 2015      0.0       0.0   \n",
       "2      0.620691                0.0   after 2015      1.0       0.0   \n",
       "3      0.689658                1.0   after 2015      1.0       1.0   \n",
       "4      0.755666                0.0   after 2015      0.0       1.0   \n",
       "\n",
       "   POSTAL_CODE  ANNUAL_MILEAGE  SPEEDING_VIOLATIONS  DUIS  PAST_ACCIDENTS  \\\n",
       "0        10238         10000.0                    0     0               0   \n",
       "1        34073         13000.0                    0     0               0   \n",
       "2        10238         12000.0                    0     0               0   \n",
       "3        10238         16000.0                    1     0               0   \n",
       "4        92101         14000.0                    2     0               0   \n",
       "\n",
       "  TYPE_OF_VEHICLE  \n",
       "0       HatchBack  \n",
       "1           Sedan  \n",
       "2             SUV  \n",
       "3             SUV  \n",
       "4       HatchBack  "
      ]
     },
     "execution_count": 124,
     "metadata": {},
     "output_type": "execute_result"
    }
   ],
   "source": [
    "df_test = pd.read_csv(r\"C:\\Users\\Shree\\Desktop\\DS Projects\\Analytics Olymipad\\AnalyticsOlympiad2022Data\\test.csv\")\n",
    "df_test.head()"
   ]
  },
  {
   "cell_type": "code",
   "execution_count": 125,
   "id": "e9b663d1",
   "metadata": {},
   "outputs": [
    {
     "name": "stdout",
     "output_type": "stream",
     "text": [
      "Train data shape : (105000, 18)\n",
      "Test data shape : (45000, 17)\n"
     ]
    }
   ],
   "source": [
    "print(f\"Train data shape : {df_train.shape}\")\n",
    "print(f\"Test data shape : {df_test.shape}\")"
   ]
  },
  {
   "cell_type": "code",
   "execution_count": 126,
   "id": "2d4b0549",
   "metadata": {},
   "outputs": [
    {
     "name": "stdout",
     "output_type": "stream",
     "text": [
      "<class 'pandas.core.frame.DataFrame'>\n",
      "RangeIndex: 105000 entries, 0 to 104999\n",
      "Data columns (total 18 columns):\n",
      " #   Column               Non-Null Count   Dtype  \n",
      "---  ------               --------------   -----  \n",
      " 0   ID                   105000 non-null  int64  \n",
      " 1   AGE                  105000 non-null  object \n",
      " 2   GENDER               105000 non-null  object \n",
      " 3   DRIVING_EXPERIENCE   105000 non-null  object \n",
      " 4   EDUCATION            105000 non-null  object \n",
      " 5   INCOME               105000 non-null  object \n",
      " 6   CREDIT_SCORE         105000 non-null  float64\n",
      " 7   VEHICLE_OWNERSHIP    105000 non-null  float64\n",
      " 8   VEHICLE_YEAR         105000 non-null  object \n",
      " 9   MARRIED              105000 non-null  float64\n",
      " 10  CHILDREN             105000 non-null  float64\n",
      " 11  POSTAL_CODE          105000 non-null  int64  \n",
      " 12  ANNUAL_MILEAGE       105000 non-null  float64\n",
      " 13  SPEEDING_VIOLATIONS  105000 non-null  int64  \n",
      " 14  DUIS                 105000 non-null  int64  \n",
      " 15  PAST_ACCIDENTS       105000 non-null  int64  \n",
      " 16  OUTCOME              105000 non-null  float64\n",
      " 17  TYPE_OF_VEHICLE      105000 non-null  object \n",
      "dtypes: float64(6), int64(5), object(7)\n",
      "memory usage: 14.4+ MB\n"
     ]
    }
   ],
   "source": [
    "## Get a concise summary of a DataFrame.\n",
    "df_train.info()"
   ]
  },
  {
   "cell_type": "code",
   "execution_count": 127,
   "id": "fab934fc",
   "metadata": {},
   "outputs": [
    {
     "data": {
      "text/plain": [
       "1.0    61335\n",
       "0.0    43665\n",
       "Name: MARRIED, dtype: int64"
      ]
     },
     "execution_count": 127,
     "metadata": {},
     "output_type": "execute_result"
    }
   ],
   "source": [
    "df_train[\"MARRIED\"].value_counts()"
   ]
  },
  {
   "cell_type": "code",
   "execution_count": 128,
   "id": "82084876",
   "metadata": {},
   "outputs": [
    {
     "data": {
      "text/plain": [
       "1.0    54600\n",
       "0.0    50400\n",
       "Name: CHILDREN, dtype: int64"
      ]
     },
     "execution_count": 128,
     "metadata": {},
     "output_type": "execute_result"
    }
   ],
   "source": [
    "df_train[\"CHILDREN\"].value_counts()"
   ]
  },
  {
   "cell_type": "code",
   "execution_count": 129,
   "id": "1eccf0c4",
   "metadata": {},
   "outputs": [],
   "source": [
    "# Change datatype to category\n",
    "df_train[\"MARRIED\"] = df_train[\"MARRIED\"].astype('category')\n",
    "df_train[\"CHILDREN\"] = df_train[\"CHILDREN\"].astype('category')\n",
    "df_train[\"OUTCOME\"] = df_train[\"OUTCOME\"].astype('category')\n",
    "df_train[\"VEHICLE_OWNERSHIP\"] = df_train[\"VEHICLE_OWNERSHIP\"].astype('category')"
   ]
  },
  {
   "cell_type": "code",
   "execution_count": 130,
   "id": "45af0985",
   "metadata": {},
   "outputs": [
    {
     "data": {
      "text/html": [
       "<div>\n",
       "<style scoped>\n",
       "    .dataframe tbody tr th:only-of-type {\n",
       "        vertical-align: middle;\n",
       "    }\n",
       "\n",
       "    .dataframe tbody tr th {\n",
       "        vertical-align: top;\n",
       "    }\n",
       "\n",
       "    .dataframe thead th {\n",
       "        text-align: right;\n",
       "    }\n",
       "</style>\n",
       "<table border=\"1\" class=\"dataframe\">\n",
       "  <thead>\n",
       "    <tr style=\"text-align: right;\">\n",
       "      <th></th>\n",
       "      <th>ID</th>\n",
       "      <th>CREDIT_SCORE</th>\n",
       "      <th>POSTAL_CODE</th>\n",
       "      <th>ANNUAL_MILEAGE</th>\n",
       "      <th>SPEEDING_VIOLATIONS</th>\n",
       "      <th>DUIS</th>\n",
       "      <th>PAST_ACCIDENTS</th>\n",
       "    </tr>\n",
       "  </thead>\n",
       "  <tbody>\n",
       "    <tr>\n",
       "      <th>count</th>\n",
       "      <td>105000.000000</td>\n",
       "      <td>105000.000000</td>\n",
       "      <td>105000.000000</td>\n",
       "      <td>105000.000000</td>\n",
       "      <td>105000.000000</td>\n",
       "      <td>105000.000000</td>\n",
       "      <td>105000.000000</td>\n",
       "    </tr>\n",
       "    <tr>\n",
       "      <th>mean</th>\n",
       "      <td>394931.295905</td>\n",
       "      <td>0.602173</td>\n",
       "      <td>18045.439267</td>\n",
       "      <td>11061.228571</td>\n",
       "      <td>0.675676</td>\n",
       "      <td>0.129733</td>\n",
       "      <td>0.549314</td>\n",
       "    </tr>\n",
       "    <tr>\n",
       "      <th>std</th>\n",
       "      <td>279694.106053</td>\n",
       "      <td>0.138045</td>\n",
       "      <td>16709.040449</td>\n",
       "      <td>2972.355482</td>\n",
       "      <td>1.383678</td>\n",
       "      <td>0.589714</td>\n",
       "      <td>1.402809</td>\n",
       "    </tr>\n",
       "    <tr>\n",
       "      <th>min</th>\n",
       "      <td>101.000000</td>\n",
       "      <td>0.066880</td>\n",
       "      <td>10238.000000</td>\n",
       "      <td>2000.000000</td>\n",
       "      <td>0.000000</td>\n",
       "      <td>0.000000</td>\n",
       "      <td>0.000000</td>\n",
       "    </tr>\n",
       "    <tr>\n",
       "      <th>25%</th>\n",
       "      <td>156351.750000</td>\n",
       "      <td>0.514876</td>\n",
       "      <td>10238.000000</td>\n",
       "      <td>9000.000000</td>\n",
       "      <td>0.000000</td>\n",
       "      <td>0.000000</td>\n",
       "      <td>0.000000</td>\n",
       "    </tr>\n",
       "    <tr>\n",
       "      <th>50%</th>\n",
       "      <td>354679.500000</td>\n",
       "      <td>0.601112</td>\n",
       "      <td>10238.000000</td>\n",
       "      <td>11000.000000</td>\n",
       "      <td>0.000000</td>\n",
       "      <td>0.000000</td>\n",
       "      <td>0.000000</td>\n",
       "    </tr>\n",
       "    <tr>\n",
       "      <th>75%</th>\n",
       "      <td>598602.250000</td>\n",
       "      <td>0.703216</td>\n",
       "      <td>22957.750000</td>\n",
       "      <td>13000.000000</td>\n",
       "      <td>1.000000</td>\n",
       "      <td>0.000000</td>\n",
       "      <td>0.000000</td>\n",
       "    </tr>\n",
       "    <tr>\n",
       "      <th>max</th>\n",
       "      <td>999976.000000</td>\n",
       "      <td>0.954075</td>\n",
       "      <td>92101.000000</td>\n",
       "      <td>21000.000000</td>\n",
       "      <td>20.000000</td>\n",
       "      <td>6.000000</td>\n",
       "      <td>15.000000</td>\n",
       "    </tr>\n",
       "  </tbody>\n",
       "</table>\n",
       "</div>"
      ],
      "text/plain": [
       "                  ID   CREDIT_SCORE    POSTAL_CODE  ANNUAL_MILEAGE  \\\n",
       "count  105000.000000  105000.000000  105000.000000   105000.000000   \n",
       "mean   394931.295905       0.602173   18045.439267    11061.228571   \n",
       "std    279694.106053       0.138045   16709.040449     2972.355482   \n",
       "min       101.000000       0.066880   10238.000000     2000.000000   \n",
       "25%    156351.750000       0.514876   10238.000000     9000.000000   \n",
       "50%    354679.500000       0.601112   10238.000000    11000.000000   \n",
       "75%    598602.250000       0.703216   22957.750000    13000.000000   \n",
       "max    999976.000000       0.954075   92101.000000    21000.000000   \n",
       "\n",
       "       SPEEDING_VIOLATIONS           DUIS  PAST_ACCIDENTS  \n",
       "count        105000.000000  105000.000000   105000.000000  \n",
       "mean              0.675676       0.129733        0.549314  \n",
       "std               1.383678       0.589714        1.402809  \n",
       "min               0.000000       0.000000        0.000000  \n",
       "25%               0.000000       0.000000        0.000000  \n",
       "50%               0.000000       0.000000        0.000000  \n",
       "75%               1.000000       0.000000        0.000000  \n",
       "max              20.000000       6.000000       15.000000  "
      ]
     },
     "execution_count": 130,
     "metadata": {},
     "output_type": "execute_result"
    }
   ],
   "source": [
    "## Generate descriptive statistics.\n",
    "df_train.describe()"
   ]
  },
  {
   "cell_type": "code",
   "execution_count": 131,
   "id": "096ed53a",
   "metadata": {},
   "outputs": [
    {
     "data": {
      "text/html": [
       "<div>\n",
       "<style scoped>\n",
       "    .dataframe tbody tr th:only-of-type {\n",
       "        vertical-align: middle;\n",
       "    }\n",
       "\n",
       "    .dataframe tbody tr th {\n",
       "        vertical-align: top;\n",
       "    }\n",
       "\n",
       "    .dataframe thead th {\n",
       "        text-align: right;\n",
       "    }\n",
       "</style>\n",
       "<table border=\"1\" class=\"dataframe\">\n",
       "  <thead>\n",
       "    <tr style=\"text-align: right;\">\n",
       "      <th></th>\n",
       "      <th>AGE</th>\n",
       "      <th>GENDER</th>\n",
       "      <th>DRIVING_EXPERIENCE</th>\n",
       "      <th>EDUCATION</th>\n",
       "      <th>INCOME</th>\n",
       "      <th>VEHICLE_YEAR</th>\n",
       "      <th>TYPE_OF_VEHICLE</th>\n",
       "    </tr>\n",
       "  </thead>\n",
       "  <tbody>\n",
       "    <tr>\n",
       "      <th>count</th>\n",
       "      <td>105000</td>\n",
       "      <td>105000</td>\n",
       "      <td>105000</td>\n",
       "      <td>105000</td>\n",
       "      <td>105000</td>\n",
       "      <td>105000</td>\n",
       "      <td>105000</td>\n",
       "    </tr>\n",
       "    <tr>\n",
       "      <th>unique</th>\n",
       "      <td>4</td>\n",
       "      <td>2</td>\n",
       "      <td>4</td>\n",
       "      <td>3</td>\n",
       "      <td>4</td>\n",
       "      <td>2</td>\n",
       "      <td>4</td>\n",
       "    </tr>\n",
       "    <tr>\n",
       "      <th>top</th>\n",
       "      <td>40-64</td>\n",
       "      <td>male</td>\n",
       "      <td>20-29y</td>\n",
       "      <td>high school</td>\n",
       "      <td>upper class</td>\n",
       "      <td>before 2015</td>\n",
       "      <td>Sports Car</td>\n",
       "    </tr>\n",
       "    <tr>\n",
       "      <th>freq</th>\n",
       "      <td>33716</td>\n",
       "      <td>65317</td>\n",
       "      <td>37493</td>\n",
       "      <td>46590</td>\n",
       "      <td>51271</td>\n",
       "      <td>57511</td>\n",
       "      <td>34592</td>\n",
       "    </tr>\n",
       "  </tbody>\n",
       "</table>\n",
       "</div>"
      ],
      "text/plain": [
       "           AGE  GENDER DRIVING_EXPERIENCE    EDUCATION       INCOME  \\\n",
       "count   105000  105000             105000       105000       105000   \n",
       "unique       4       2                  4            3            4   \n",
       "top      40-64    male             20-29y  high school  upper class   \n",
       "freq     33716   65317              37493        46590        51271   \n",
       "\n",
       "       VEHICLE_YEAR TYPE_OF_VEHICLE  \n",
       "count        105000          105000  \n",
       "unique            2               4  \n",
       "top     before 2015      Sports Car  \n",
       "freq          57511           34592  "
      ]
     },
     "execution_count": 131,
     "metadata": {},
     "output_type": "execute_result"
    }
   ],
   "source": [
    "## Generate descriptive statistics for categorical data.\n",
    "df_train.describe(include='object')"
   ]
  },
  {
   "cell_type": "code",
   "execution_count": 132,
   "id": "fb9944ca",
   "metadata": {},
   "outputs": [
    {
     "data": {
      "text/plain": [
       "0.0    60622\n",
       "1.0    44378\n",
       "Name: OUTCOME, dtype: int64"
      ]
     },
     "execution_count": 132,
     "metadata": {},
     "output_type": "execute_result"
    }
   ],
   "source": [
    "df_train[\"OUTCOME\"].value_counts()"
   ]
  },
  {
   "cell_type": "code",
   "execution_count": 133,
   "id": "a974aded",
   "metadata": {},
   "outputs": [
    {
     "data": {
      "image/png": "[encoded data removed]",
      "text/plain": [
       "<Figure size 360x360 with 1 Axes>"
      ]
     },
     "metadata": {},
     "output_type": "display_data"
    }
   ],
   "source": [
    "plt.figure(figsize=(5,5))\n",
    "plt.pie(x=df_train['OUTCOME'].value_counts().values,labels=df_train['OUTCOME'].value_counts().index,autopct='%1.1f%%')\n",
    "plt.title(\"Data Distribution\")\n",
    "plt.tight_layout()"
   ]
  },
  {
   "cell_type": "markdown",
   "id": "deb7089c",
   "metadata": {},
   "source": [
    "## Handling Missing Values"
   ]
  },
  {
   "cell_type": "code",
   "execution_count": 134,
   "id": "c1f7b190",
   "metadata": {},
   "outputs": [
    {
     "data": {
      "text/plain": [
       "ID                     0\n",
       "AGE                    0\n",
       "GENDER                 0\n",
       "DRIVING_EXPERIENCE     0\n",
       "EDUCATION              0\n",
       "INCOME                 0\n",
       "CREDIT_SCORE           0\n",
       "VEHICLE_OWNERSHIP      0\n",
       "VEHICLE_YEAR           0\n",
       "MARRIED                0\n",
       "CHILDREN               0\n",
       "POSTAL_CODE            0\n",
       "ANNUAL_MILEAGE         0\n",
       "SPEEDING_VIOLATIONS    0\n",
       "DUIS                   0\n",
       "PAST_ACCIDENTS         0\n",
       "OUTCOME                0\n",
       "TYPE_OF_VEHICLE        0\n",
       "dtype: int64"
      ]
     },
     "execution_count": 134,
     "metadata": {},
     "output_type": "execute_result"
    }
   ],
   "source": [
    "## Check for null values\n",
    "df_train.isnull().sum()"
   ]
  },
  {
   "cell_type": "markdown",
   "id": "6014f893",
   "metadata": {},
   "source": [
    "## Exploratory Data Analysis"
   ]
  },
  {
   "cell_type": "code",
   "execution_count": 135,
   "id": "df795f91",
   "metadata": {},
   "outputs": [
    {
     "data": {
      "text/plain": [
       "['ID',\n",
       " 'CREDIT_SCORE',\n",
       " 'POSTAL_CODE',\n",
       " 'ANNUAL_MILEAGE',\n",
       " 'SPEEDING_VIOLATIONS',\n",
       " 'DUIS',\n",
       " 'PAST_ACCIDENTS']"
      ]
     },
     "execution_count": 135,
     "metadata": {},
     "output_type": "execute_result"
    }
   ],
   "source": [
    "num_list = [i for i in df_train.columns if (df_train[i].dtype == 'int64') or (df_train[i].dtype == 'float64') ]\n",
    "num_list"
   ]
  },
  {
   "cell_type": "code",
   "execution_count": 136,
   "id": "8c395353",
   "metadata": {},
   "outputs": [
    {
     "data": {
      "text/plain": [
       "['AGE',\n",
       " 'GENDER',\n",
       " 'DRIVING_EXPERIENCE',\n",
       " 'EDUCATION',\n",
       " 'INCOME',\n",
       " 'VEHICLE_OWNERSHIP',\n",
       " 'VEHICLE_YEAR',\n",
       " 'MARRIED',\n",
       " 'CHILDREN',\n",
       " 'OUTCOME',\n",
       " 'TYPE_OF_VEHICLE']"
      ]
     },
     "execution_count": 136,
     "metadata": {},
     "output_type": "execute_result"
    }
   ],
   "source": [
    "cat_list = [i for i in df_train.columns if i not in num_list]\n",
    "cat_list"
   ]
  },
  {
   "cell_type": "code",
   "execution_count": 137,
   "id": "52ff735c",
   "metadata": {},
   "outputs": [],
   "source": [
    "#sns.pairplot(data=df_train,vars=[ 'CREDIT_SCORE','VEHICLE_OWNERSHIP','ANNUAL_MILEAGE',\n",
    "                                 #'SPEEDING_VIOLATIONS','DUIS','PAST_ACCIDENTS'],hue='OUTCOME')"
   ]
  },
  {
   "cell_type": "code",
   "execution_count": 138,
   "id": "d0036b83",
   "metadata": {},
   "outputs": [
    {
     "data": {
      "text/plain": [
       "<seaborn.axisgrid.PairGrid at 0x23414fbc100>"
      ]
     },
     "execution_count": 138,
     "metadata": {},
     "output_type": "execute_result"
    },
    {
     "data": {
      "image/png": "[encoded data removed]",
      "text/plain": [
       "<Figure size 598x540 with 12 Axes>"
      ]
     },
     "metadata": {
      "needs_background": "light"
     },
     "output_type": "display_data"
    }
   ],
   "source": [
    "sns.pairplot(data=df_train,vars=['CREDIT_SCORE','ANNUAL_MILEAGE','SPEEDING_VIOLATIONS'],hue='OUTCOME')"
   ]
  },
  {
   "cell_type": "code",
   "execution_count": 139,
   "id": "7756f121",
   "metadata": {},
   "outputs": [
    {
     "data": {
      "text/plain": [
       "<seaborn.axisgrid.PairGrid at 0x234234420d0>"
      ]
     },
     "execution_count": 139,
     "metadata": {},
     "output_type": "execute_result"
    },
    {
     "data": {
      "image/png": "[encoded data removed]",
      "text/plain": [
       "<Figure size 418x360 with 6 Axes>"
      ]
     },
     "metadata": {
      "needs_background": "light"
     },
     "output_type": "display_data"
    }
   ],
   "source": [
    "sns.pairplot(data=df_train,vars=['DUIS','PAST_ACCIDENTS'],hue='OUTCOME')"
   ]
  },
  {
   "cell_type": "code",
   "execution_count": 140,
   "id": "c79520c1",
   "metadata": {},
   "outputs": [
    {
     "data": {
      "text/plain": [
       "<AxesSubplot:xlabel='GENDER', ylabel='count'>"
      ]
     },
     "execution_count": 140,
     "metadata": {},
     "output_type": "execute_result"
    },
    {
     "data": {
      "image/png": "[encoded data removed]",
      "text/plain": [
       "<Figure size 1440x576 with 2 Axes>"
      ]
     },
     "metadata": {
      "needs_background": "light"
     },
     "output_type": "display_data"
    }
   ],
   "source": [
    "plt.figure(figsize=(20,8))\n",
    "\n",
    "# Age & Outcome\n",
    "plt.subplot(1,2,1)\n",
    "sns.countplot(x='AGE',hue='OUTCOME',data=df_train)\n",
    "\n",
    "# Gender & Outcome\n",
    "plt.subplot(1,2,2)\n",
    "sns.countplot(x='GENDER',hue='OUTCOME',data=df_train)"
   ]
  },
  {
   "cell_type": "code",
   "execution_count": 141,
   "id": "1ea49539",
   "metadata": {},
   "outputs": [
    {
     "data": {
      "text/plain": [
       "<AxesSubplot:xlabel='INCOME', ylabel='count'>"
      ]
     },
     "execution_count": 141,
     "metadata": {},
     "output_type": "execute_result"
    },
    {
     "data": {
      "image/png": "[encoded data removed]",
      "text/plain": [
       "<Figure size 1440x576 with 2 Axes>"
      ]
     },
     "metadata": {
      "needs_background": "light"
     },
     "output_type": "display_data"
    }
   ],
   "source": [
    "plt.figure(figsize=(20,8))\n",
    "\n",
    "# Driving Experience & Outcome\n",
    "plt.subplot(1,2,1)\n",
    "sns.countplot(x='DRIVING_EXPERIENCE',hue='OUTCOME',data=df_train)\n",
    "\n",
    "# Income & Outcome\n",
    "plt.subplot(1,2,2)\n",
    "sns.countplot(x='INCOME',hue='OUTCOME',data=df_train)"
   ]
  },
  {
   "cell_type": "code",
   "execution_count": 142,
   "id": "dc64772e",
   "metadata": {},
   "outputs": [
    {
     "data": {
      "text/plain": [
       "<AxesSubplot:xlabel='TYPE_OF_VEHICLE', ylabel='count'>"
      ]
     },
     "execution_count": 142,
     "metadata": {},
     "output_type": "execute_result"
    },
    {
     "data": {
      "image/png": "[encoded data removed]",
      "text/plain": [
       "<Figure size 1440x576 with 2 Axes>"
      ]
     },
     "metadata": {
      "needs_background": "light"
     },
     "output_type": "display_data"
    }
   ],
   "source": [
    "plt.figure(figsize=(20,8))\n",
    "\n",
    "# VEHICLE_OWNERSHIP & Outcome\n",
    "plt.subplot(1,2,1)\n",
    "sns.countplot(x='VEHICLE_OWNERSHIP',hue='OUTCOME',data=df_train)\n",
    "\n",
    "# TYPE_OF_VEHICLE & Outcome\n",
    "plt.subplot(1,2,2)\n",
    "sns.countplot(x='TYPE_OF_VEHICLE',hue='OUTCOME',data=df_train)"
   ]
  },
  {
   "cell_type": "code",
   "execution_count": 143,
   "id": "104289a7",
   "metadata": {},
   "outputs": [
    {
     "data": {
      "text/plain": [
       "<AxesSubplot:xlabel='CHILDREN', ylabel='count'>"
      ]
     },
     "execution_count": 143,
     "metadata": {},
     "output_type": "execute_result"
    },
    {
     "data": {
      "image/png": "[encoded data removed]",
      "text/plain": [
       "<Figure size 1440x576 with 2 Axes>"
      ]
     },
     "metadata": {
      "needs_background": "light"
     },
     "output_type": "display_data"
    }
   ],
   "source": [
    "plt.figure(figsize=(20,8))\n",
    "\n",
    "# MARRIED & Outcome\n",
    "plt.subplot(1,2,1)\n",
    "sns.countplot(x='MARRIED',hue='OUTCOME',data=df_train)\n",
    "\n",
    "# CHILDREN & Outcome\n",
    "plt.subplot(1,2,2)\n",
    "sns.countplot(x='CHILDREN',hue='OUTCOME',data=df_train)"
   ]
  },
  {
   "cell_type": "markdown",
   "id": "9f727291",
   "metadata": {},
   "source": [
    "## Outlier Treatment for numerical columns"
   ]
  },
  {
   "cell_type": "code",
   "execution_count": 144,
   "id": "8081f5c3",
   "metadata": {},
   "outputs": [
    {
     "data": {
      "image/png": "[encoded data removed]",
      "text/plain": [
       "<Figure size 1080x576 with 7 Axes>"
      ]
     },
     "metadata": {
      "needs_background": "light"
     },
     "output_type": "display_data"
    }
   ],
   "source": [
    "## Check for outliers for all numerical features using boxplot.\n",
    "plt.figure(figsize=(15,8))\n",
    "for feature, i in zip(num_list,range(1,9)):\n",
    "    plt.subplot(2,4,i)\n",
    "    df_train.boxplot(column=feature)\n",
    "    plt.tight_layout() "
   ]
  },
  {
   "cell_type": "markdown",
   "id": "a09622b9",
   "metadata": {},
   "source": [
    "### Handling upper and lower whisker outliers"
   ]
  },
  {
   "cell_type": "code",
   "execution_count": 145,
   "id": "1aa4ef32",
   "metadata": {},
   "outputs": [],
   "source": [
    "## Handling upper whisker outliers\n",
    "upper=['SPEEDING_VIOLATIONS','DUIS','PAST_ACCIDENTS']\n",
    "\n",
    "for feature in upper:\n",
    "    p_98 = np.percentile(df_train[feature], 98)\n",
    "    df_train.loc[df_train[feature] > p_98, feature] = p_98\n",
    "\n",
    "## Handling lower whisker outliers\n",
    "p_3 = np.percentile(df_train['CREDIT_SCORE'], 3)\n",
    "df_train.loc[df_train['CREDIT_SCORE'] < p_3,'CREDIT_SCORE'] = p_3"
   ]
  },
  {
   "cell_type": "markdown",
   "id": "421288c3",
   "metadata": {},
   "source": [
    "### Checking features after outliers treatment"
   ]
  },
  {
   "cell_type": "code",
   "execution_count": 146,
   "id": "da5332bc",
   "metadata": {},
   "outputs": [
    {
     "data": {
      "image/png": "[encoded data removed]",
      "text/plain": [
       "<Figure size 1080x576 with 7 Axes>"
      ]
     },
     "metadata": {
      "needs_background": "light"
     },
     "output_type": "display_data"
    }
   ],
   "source": [
    "plt.figure(figsize=(15,8))\n",
    "for feature, i in zip(num_list,range(1,9)):\n",
    "    plt.subplot(2,4,i)\n",
    "    df_train.boxplot(column=feature)\n",
    "    plt.tight_layout()"
   ]
  },
  {
   "cell_type": "markdown",
   "id": "6ba8d553",
   "metadata": {},
   "source": [
    "## Multicollinearity"
   ]
  },
  {
   "cell_type": "code",
   "execution_count": 147,
   "id": "1f4a0aa9",
   "metadata": {},
   "outputs": [
    {
     "data": {
      "text/html": [
       "<div>\n",
       "<style scoped>\n",
       "    .dataframe tbody tr th:only-of-type {\n",
       "        vertical-align: middle;\n",
       "    }\n",
       "\n",
       "    .dataframe tbody tr th {\n",
       "        vertical-align: top;\n",
       "    }\n",
       "\n",
       "    .dataframe thead th {\n",
       "        text-align: right;\n",
       "    }\n",
       "</style>\n",
       "<table border=\"1\" class=\"dataframe\">\n",
       "  <thead>\n",
       "    <tr style=\"text-align: right;\">\n",
       "      <th></th>\n",
       "      <th>ID</th>\n",
       "      <th>CREDIT_SCORE</th>\n",
       "      <th>POSTAL_CODE</th>\n",
       "      <th>ANNUAL_MILEAGE</th>\n",
       "      <th>SPEEDING_VIOLATIONS</th>\n",
       "      <th>DUIS</th>\n",
       "      <th>PAST_ACCIDENTS</th>\n",
       "    </tr>\n",
       "  </thead>\n",
       "  <tbody>\n",
       "    <tr>\n",
       "      <th>ID</th>\n",
       "      <td>1.000000</td>\n",
       "      <td>0.005775</td>\n",
       "      <td>0.006400</td>\n",
       "      <td>-0.009844</td>\n",
       "      <td>-0.006446</td>\n",
       "      <td>0.001346</td>\n",
       "      <td>0.008273</td>\n",
       "    </tr>\n",
       "    <tr>\n",
       "      <th>CREDIT_SCORE</th>\n",
       "      <td>0.005775</td>\n",
       "      <td>1.000000</td>\n",
       "      <td>-0.005493</td>\n",
       "      <td>-0.020109</td>\n",
       "      <td>-0.006807</td>\n",
       "      <td>0.003742</td>\n",
       "      <td>-0.007935</td>\n",
       "    </tr>\n",
       "    <tr>\n",
       "      <th>POSTAL_CODE</th>\n",
       "      <td>0.006400</td>\n",
       "      <td>-0.005493</td>\n",
       "      <td>1.000000</td>\n",
       "      <td>0.007323</td>\n",
       "      <td>0.006436</td>\n",
       "      <td>0.008877</td>\n",
       "      <td>0.010818</td>\n",
       "    </tr>\n",
       "    <tr>\n",
       "      <th>ANNUAL_MILEAGE</th>\n",
       "      <td>-0.009844</td>\n",
       "      <td>-0.020109</td>\n",
       "      <td>0.007323</td>\n",
       "      <td>1.000000</td>\n",
       "      <td>-0.002345</td>\n",
       "      <td>0.004141</td>\n",
       "      <td>-0.003399</td>\n",
       "    </tr>\n",
       "    <tr>\n",
       "      <th>SPEEDING_VIOLATIONS</th>\n",
       "      <td>-0.006446</td>\n",
       "      <td>-0.006807</td>\n",
       "      <td>0.006436</td>\n",
       "      <td>-0.002345</td>\n",
       "      <td>1.000000</td>\n",
       "      <td>0.008403</td>\n",
       "      <td>0.006625</td>\n",
       "    </tr>\n",
       "    <tr>\n",
       "      <th>DUIS</th>\n",
       "      <td>0.001346</td>\n",
       "      <td>0.003742</td>\n",
       "      <td>0.008877</td>\n",
       "      <td>0.004141</td>\n",
       "      <td>0.008403</td>\n",
       "      <td>1.000000</td>\n",
       "      <td>0.007251</td>\n",
       "    </tr>\n",
       "    <tr>\n",
       "      <th>PAST_ACCIDENTS</th>\n",
       "      <td>0.008273</td>\n",
       "      <td>-0.007935</td>\n",
       "      <td>0.010818</td>\n",
       "      <td>-0.003399</td>\n",
       "      <td>0.006625</td>\n",
       "      <td>0.007251</td>\n",
       "      <td>1.000000</td>\n",
       "    </tr>\n",
       "  </tbody>\n",
       "</table>\n",
       "</div>"
      ],
      "text/plain": [
       "                           ID  CREDIT_SCORE  POSTAL_CODE  ANNUAL_MILEAGE  \\\n",
       "ID                   1.000000      0.005775     0.006400       -0.009844   \n",
       "CREDIT_SCORE         0.005775      1.000000    -0.005493       -0.020109   \n",
       "POSTAL_CODE          0.006400     -0.005493     1.000000        0.007323   \n",
       "ANNUAL_MILEAGE      -0.009844     -0.020109     0.007323        1.000000   \n",
       "SPEEDING_VIOLATIONS -0.006446     -0.006807     0.006436       -0.002345   \n",
       "DUIS                 0.001346      0.003742     0.008877        0.004141   \n",
       "PAST_ACCIDENTS       0.008273     -0.007935     0.010818       -0.003399   \n",
       "\n",
       "                     SPEEDING_VIOLATIONS      DUIS  PAST_ACCIDENTS  \n",
       "ID                             -0.006446  0.001346        0.008273  \n",
       "CREDIT_SCORE                   -0.006807  0.003742       -0.007935  \n",
       "POSTAL_CODE                     0.006436  0.008877        0.010818  \n",
       "ANNUAL_MILEAGE                 -0.002345  0.004141       -0.003399  \n",
       "SPEEDING_VIOLATIONS             1.000000  0.008403        0.006625  \n",
       "DUIS                            0.008403  1.000000        0.007251  \n",
       "PAST_ACCIDENTS                  0.006625  0.007251        1.000000  "
      ]
     },
     "execution_count": 147,
     "metadata": {},
     "output_type": "execute_result"
    }
   ],
   "source": [
    "## Show the correlation between numericals features.\n",
    "df_train.corr()"
   ]
  },
  {
   "cell_type": "code",
   "execution_count": 148,
   "id": "04618846",
   "metadata": {},
   "outputs": [
    {
     "data": {
      "text/plain": [
       "<AxesSubplot:>"
      ]
     },
     "execution_count": 148,
     "metadata": {},
     "output_type": "execute_result"
    },
    {
     "data": {
      "image/png": "[encoded data removed]",
      "text/plain": [
       "<Figure size 864x576 with 2 Axes>"
      ]
     },
     "metadata": {
      "needs_background": "light"
     },
     "output_type": "display_data"
    }
   ],
   "source": [
    "plt.figure(figsize=(12,8))\n",
    "sns.heatmap(df_train.corr(),annot=True)"
   ]
  },
  {
   "cell_type": "markdown",
   "id": "b98928f5",
   "metadata": {},
   "source": [
    "### variance_inflation_factor"
   ]
  },
  {
   "cell_type": "code",
   "execution_count": 149,
   "id": "ab67ad7e",
   "metadata": {},
   "outputs": [],
   "source": [
    "from statsmodels.stats.outliers_influence import variance_inflation_factor"
   ]
  },
  {
   "cell_type": "code",
   "execution_count": 150,
   "id": "b2c7533c",
   "metadata": {},
   "outputs": [
    {
     "data": {
      "text/html": [
       "<div>\n",
       "<style scoped>\n",
       "    .dataframe tbody tr th:only-of-type {\n",
       "        vertical-align: middle;\n",
       "    }\n",
       "\n",
       "    .dataframe tbody tr th {\n",
       "        vertical-align: top;\n",
       "    }\n",
       "\n",
       "    .dataframe thead th {\n",
       "        text-align: right;\n",
       "    }\n",
       "</style>\n",
       "<table border=\"1\" class=\"dataframe\">\n",
       "  <thead>\n",
       "    <tr style=\"text-align: right;\">\n",
       "      <th></th>\n",
       "      <th>variables</th>\n",
       "      <th>VIF</th>\n",
       "    </tr>\n",
       "  </thead>\n",
       "  <tbody>\n",
       "    <tr>\n",
       "      <th>0</th>\n",
       "      <td>ID</td>\n",
       "      <td>2.843713</td>\n",
       "    </tr>\n",
       "    <tr>\n",
       "      <th>1</th>\n",
       "      <td>CREDIT_SCORE</td>\n",
       "      <td>10.031931</td>\n",
       "    </tr>\n",
       "    <tr>\n",
       "      <th>2</th>\n",
       "      <td>POSTAL_CODE</td>\n",
       "      <td>2.106214</td>\n",
       "    </tr>\n",
       "    <tr>\n",
       "      <th>3</th>\n",
       "      <td>ANNUAL_MILEAGE</td>\n",
       "      <td>9.402458</td>\n",
       "    </tr>\n",
       "    <tr>\n",
       "      <th>4</th>\n",
       "      <td>SPEEDING_VIOLATIONS</td>\n",
       "      <td>1.302979</td>\n",
       "    </tr>\n",
       "    <tr>\n",
       "      <th>5</th>\n",
       "      <td>DUIS</td>\n",
       "      <td>1.054087</td>\n",
       "    </tr>\n",
       "    <tr>\n",
       "      <th>6</th>\n",
       "      <td>PAST_ACCIDENTS</td>\n",
       "      <td>1.199457</td>\n",
       "    </tr>\n",
       "  </tbody>\n",
       "</table>\n",
       "</div>"
      ],
      "text/plain": [
       "             variables        VIF\n",
       "0                   ID   2.843713\n",
       "1         CREDIT_SCORE  10.031931\n",
       "2          POSTAL_CODE   2.106214\n",
       "3       ANNUAL_MILEAGE   9.402458\n",
       "4  SPEEDING_VIOLATIONS   1.302979\n",
       "5                 DUIS   1.054087\n",
       "6       PAST_ACCIDENTS   1.199457"
      ]
     },
     "execution_count": 150,
     "metadata": {},
     "output_type": "execute_result"
    }
   ],
   "source": [
    "vif = pd.DataFrame()  ## Create empty dataframe\n",
    "vif[\"variables\"] = num_list\n",
    "vif[\"VIF\"] = [variance_inflation_factor(df_train[num_list].values, i) for i in range(df_train[num_list].shape[1])]\n",
    "\n",
    "vif"
   ]
  },
  {
   "cell_type": "markdown",
   "id": "323b8a81",
   "metadata": {},
   "source": [
    "## Feature Distribution (Numerical)"
   ]
  },
  {
   "cell_type": "code",
   "execution_count": 151,
   "id": "f304871d",
   "metadata": {},
   "outputs": [
    {
     "data": {
      "text/plain": [
       "7"
      ]
     },
     "execution_count": 151,
     "metadata": {},
     "output_type": "execute_result"
    }
   ],
   "source": [
    "len(num_list)"
   ]
  },
  {
   "cell_type": "code",
   "execution_count": 152,
   "id": "947a1977",
   "metadata": {},
   "outputs": [
    {
     "data": {
      "image/png": "[encoded data removed]",
      "text/plain": [
       "<Figure size 1440x720 with 7 Axes>"
      ]
     },
     "metadata": {
      "needs_background": "light"
     },
     "output_type": "display_data"
    }
   ],
   "source": [
    "plt.figure(figsize=(20,10))\n",
    "for feature,i in zip(num_list,range(1,9)):\n",
    "    plt.subplot(2,4,i)\n",
    "    sns.distplot(df_train[feature],kde=True)\n",
    "    plt.tight_layout()"
   ]
  },
  {
   "cell_type": "markdown",
   "id": "28049b32",
   "metadata": {},
   "source": [
    "### Checking skewness value for numerical column"
   ]
  },
  {
   "cell_type": "code",
   "execution_count": 153,
   "id": "cfd1c9c0",
   "metadata": {},
   "outputs": [],
   "source": [
    "right_skewed={}\n",
    "left_skewed={}\n",
    "normal={}\n",
    "\n",
    "for feature in df_train[num_list].columns:\n",
    "    s=stats.skew(df_train[feature])\n",
    "    if(s > 0):\n",
    "        right_skewed[feature]=round(s,2)\n",
    "    elif(s < 0):\n",
    "        left_skewed[feature]=round(s,2)\n",
    "    else:\n",
    "        normal[feature]=round(s,2)"
   ]
  },
  {
   "cell_type": "code",
   "execution_count": 154,
   "id": "0dac2307",
   "metadata": {},
   "outputs": [
    {
     "data": {
      "text/plain": [
       "{'ID': 0.45,\n",
       " 'POSTAL_CODE': 2.99,\n",
       " 'SPEEDING_VIOLATIONS': 2.21,\n",
       " 'DUIS': 4.75,\n",
       " 'PAST_ACCIDENTS': 2.73}"
      ]
     },
     "execution_count": 154,
     "metadata": {},
     "output_type": "execute_result"
    }
   ],
   "source": [
    "right_skewed"
   ]
  },
  {
   "cell_type": "code",
   "execution_count": 155,
   "id": "dcc541ac",
   "metadata": {},
   "outputs": [
    {
     "name": "stdout",
     "output_type": "stream",
     "text": [
      "ID : -2.251506534303651\n",
      "POSTAL_CODE : 1.522988511100856\n",
      "SPEEDING_VIOLATIONS : 1.2757710577126427\n",
      "DUIS : 4.130336062986334\n",
      "PAST_ACCIDENTS : 1.788852087721594\n"
     ]
    }
   ],
   "source": [
    "for feature in right_skewed.keys():\n",
    "    print(f\"{feature} : {stats.skew(np.log(df_train[feature]+1))}\")  # lognormal transformation"
   ]
  },
  {
   "cell_type": "code",
   "execution_count": 156,
   "id": "7508e55b",
   "metadata": {},
   "outputs": [
    {
     "name": "stdout",
     "output_type": "stream",
     "text": [
      "ID : -0.2730587213771592\n",
      "POSTAL_CODE : 2.0855340809194574\n",
      "SPEEDING_VIOLATIONS : 1.1089412780674637\n",
      "DUIS : 3.936737378448988\n",
      "PAST_ACCIDENTS : 1.626986538887017\n"
     ]
    }
   ],
   "source": [
    "for feature in right_skewed.keys():\n",
    "    print(f\"{feature} : {stats.skew(np.sqrt(df_train[feature]))}\") # sqrt transformation"
   ]
  },
  {
   "cell_type": "code",
   "execution_count": 157,
   "id": "154fbfd9",
   "metadata": {},
   "outputs": [],
   "source": [
    "## Right skewed feature transformation\n",
    "df_train[\"POSTAL_CODE\"] = np.log(df_train[\"POSTAL_CODE\"]+1)\n",
    "df_train[\"SPEEDING_VIOLATIONS\"] = np.sqrt(df_train[\"SPEEDING_VIOLATIONS\"])\n",
    "df_train[\"DUIS\"] = np.sqrt(df_train[\"SPEEDING_VIOLATIONS\"])\n",
    "df_train[\"PAST_ACCIDENTS\"] = np.sqrt(df_train[\"PAST_ACCIDENTS\"])"
   ]
  },
  {
   "cell_type": "code",
   "execution_count": 158,
   "id": "882772e0",
   "metadata": {},
   "outputs": [
    {
     "data": {
      "text/plain": [
       "{'CREDIT_SCORE': -0.04, 'ANNUAL_MILEAGE': -0.51}"
      ]
     },
     "execution_count": 158,
     "metadata": {},
     "output_type": "execute_result"
    }
   ],
   "source": [
    "left_skewed"
   ]
  },
  {
   "cell_type": "code",
   "execution_count": 159,
   "id": "6da3dd91",
   "metadata": {},
   "outputs": [
    {
     "name": "stdout",
     "output_type": "stream",
     "text": [
      "CREDIT_SCORE : -0.04071918311531636\n",
      "ANNUAL_MILEAGE : -0.09077124214402951\n"
     ]
    }
   ],
   "source": [
    "print(f\"CREDIT_SCORE : {stats.skew(stats.boxcox(df_train['CREDIT_SCORE'])[0])}\")\n",
    "print(f\"ANNUAL_MILEAGE : {stats.skew(stats.boxcox(df_train['ANNUAL_MILEAGE'])[0])}\")"
   ]
  },
  {
   "cell_type": "code",
   "execution_count": 160,
   "id": "c3167b2a",
   "metadata": {},
   "outputs": [],
   "source": [
    "## Left skewed feature transformation\n",
    "df_train[\"ANNUAL_MILEAGE\"] = stats.boxcox(df_train[\"ANNUAL_MILEAGE\"])[0]"
   ]
  },
  {
   "cell_type": "markdown",
   "id": "aff3608c",
   "metadata": {},
   "source": [
    "## Feature Analysis"
   ]
  },
  {
   "cell_type": "code",
   "execution_count": 161,
   "id": "6bac877e",
   "metadata": {},
   "outputs": [
    {
     "data": {
      "text/html": [
       "<div>\n",
       "<style scoped>\n",
       "    .dataframe tbody tr th:only-of-type {\n",
       "        vertical-align: middle;\n",
       "    }\n",
       "\n",
       "    .dataframe tbody tr th {\n",
       "        vertical-align: top;\n",
       "    }\n",
       "\n",
       "    .dataframe thead th {\n",
       "        text-align: right;\n",
       "    }\n",
       "</style>\n",
       "<table border=\"1\" class=\"dataframe\">\n",
       "  <thead>\n",
       "    <tr style=\"text-align: right;\">\n",
       "      <th></th>\n",
       "      <th>ID</th>\n",
       "      <th>AGE</th>\n",
       "      <th>GENDER</th>\n",
       "      <th>DRIVING_EXPERIENCE</th>\n",
       "      <th>EDUCATION</th>\n",
       "      <th>INCOME</th>\n",
       "      <th>CREDIT_SCORE</th>\n",
       "      <th>VEHICLE_OWNERSHIP</th>\n",
       "      <th>VEHICLE_YEAR</th>\n",
       "      <th>MARRIED</th>\n",
       "      <th>CHILDREN</th>\n",
       "      <th>POSTAL_CODE</th>\n",
       "      <th>ANNUAL_MILEAGE</th>\n",
       "      <th>SPEEDING_VIOLATIONS</th>\n",
       "      <th>DUIS</th>\n",
       "      <th>PAST_ACCIDENTS</th>\n",
       "      <th>OUTCOME</th>\n",
       "      <th>TYPE_OF_VEHICLE</th>\n",
       "    </tr>\n",
       "  </thead>\n",
       "  <tbody>\n",
       "    <tr>\n",
       "      <th>0</th>\n",
       "      <td>816393</td>\n",
       "      <td>40-64</td>\n",
       "      <td>female</td>\n",
       "      <td>20-29y</td>\n",
       "      <td>university</td>\n",
       "      <td>middle class</td>\n",
       "      <td>0.638050</td>\n",
       "      <td>0.0</td>\n",
       "      <td>after 2015</td>\n",
       "      <td>0.0</td>\n",
       "      <td>0.0</td>\n",
       "      <td>10.528891</td>\n",
       "      <td>8.842932e+05</td>\n",
       "      <td>0.0</td>\n",
       "      <td>0.0</td>\n",
       "      <td>0.0</td>\n",
       "      <td>0.0</td>\n",
       "      <td>Sports Car</td>\n",
       "    </tr>\n",
       "    <tr>\n",
       "      <th>1</th>\n",
       "      <td>251762</td>\n",
       "      <td>26-39</td>\n",
       "      <td>male</td>\n",
       "      <td>20-29y</td>\n",
       "      <td>high school</td>\n",
       "      <td>middle class</td>\n",
       "      <td>0.475741</td>\n",
       "      <td>1.0</td>\n",
       "      <td>before 2015</td>\n",
       "      <td>1.0</td>\n",
       "      <td>0.0</td>\n",
       "      <td>9.233959</td>\n",
       "      <td>6.523248e+05</td>\n",
       "      <td>0.0</td>\n",
       "      <td>0.0</td>\n",
       "      <td>0.0</td>\n",
       "      <td>1.0</td>\n",
       "      <td>HatchBack</td>\n",
       "    </tr>\n",
       "    <tr>\n",
       "      <th>2</th>\n",
       "      <td>481952</td>\n",
       "      <td>40-64</td>\n",
       "      <td>male</td>\n",
       "      <td>20-29y</td>\n",
       "      <td>none</td>\n",
       "      <td>middle class</td>\n",
       "      <td>0.839817</td>\n",
       "      <td>1.0</td>\n",
       "      <td>before 2015</td>\n",
       "      <td>1.0</td>\n",
       "      <td>1.0</td>\n",
       "      <td>9.233959</td>\n",
       "      <td>1.008996e+06</td>\n",
       "      <td>0.0</td>\n",
       "      <td>0.0</td>\n",
       "      <td>0.0</td>\n",
       "      <td>1.0</td>\n",
       "      <td>Sedan</td>\n",
       "    </tr>\n",
       "    <tr>\n",
       "      <th>3</th>\n",
       "      <td>3506</td>\n",
       "      <td>40-64</td>\n",
       "      <td>male</td>\n",
       "      <td>20-29y</td>\n",
       "      <td>high school</td>\n",
       "      <td>upper class</td>\n",
       "      <td>0.682527</td>\n",
       "      <td>1.0</td>\n",
       "      <td>before 2015</td>\n",
       "      <td>0.0</td>\n",
       "      <td>1.0</td>\n",
       "      <td>11.430630</td>\n",
       "      <td>3.527635e+05</td>\n",
       "      <td>1.0</td>\n",
       "      <td>1.0</td>\n",
       "      <td>0.0</td>\n",
       "      <td>1.0</td>\n",
       "      <td>Sedan</td>\n",
       "    </tr>\n",
       "    <tr>\n",
       "      <th>4</th>\n",
       "      <td>498013</td>\n",
       "      <td>40-64</td>\n",
       "      <td>female</td>\n",
       "      <td>20-29y</td>\n",
       "      <td>none</td>\n",
       "      <td>working class</td>\n",
       "      <td>0.572184</td>\n",
       "      <td>1.0</td>\n",
       "      <td>after 2015</td>\n",
       "      <td>1.0</td>\n",
       "      <td>1.0</td>\n",
       "      <td>10.377328</td>\n",
       "      <td>1.415204e+06</td>\n",
       "      <td>0.0</td>\n",
       "      <td>0.0</td>\n",
       "      <td>1.0</td>\n",
       "      <td>0.0</td>\n",
       "      <td>Sedan</td>\n",
       "    </tr>\n",
       "  </tbody>\n",
       "</table>\n",
       "</div>"
      ],
      "text/plain": [
       "       ID    AGE  GENDER DRIVING_EXPERIENCE    EDUCATION         INCOME  \\\n",
       "0  816393  40-64  female             20-29y   university   middle class   \n",
       "1  251762  26-39    male             20-29y  high school   middle class   \n",
       "2  481952  40-64    male             20-29y         none   middle class   \n",
       "3    3506  40-64    male             20-29y  high school    upper class   \n",
       "4  498013  40-64  female             20-29y         none  working class   \n",
       "\n",
       "   CREDIT_SCORE VEHICLE_OWNERSHIP VEHICLE_YEAR MARRIED CHILDREN  POSTAL_CODE  \\\n",
       "0      0.638050               0.0   after 2015     0.0      0.0    10.528891   \n",
       "1      0.475741               1.0  before 2015     1.0      0.0     9.233959   \n",
       "2      0.839817               1.0  before 2015     1.0      1.0     9.233959   \n",
       "3      0.682527               1.0  before 2015     0.0      1.0    11.430630   \n",
       "4      0.572184               1.0   after 2015     1.0      1.0    10.377328   \n",
       "\n",
       "   ANNUAL_MILEAGE  SPEEDING_VIOLATIONS  DUIS  PAST_ACCIDENTS OUTCOME  \\\n",
       "0    8.842932e+05                  0.0   0.0             0.0     0.0   \n",
       "1    6.523248e+05                  0.0   0.0             0.0     1.0   \n",
       "2    1.008996e+06                  0.0   0.0             0.0     1.0   \n",
       "3    3.527635e+05                  1.0   1.0             0.0     1.0   \n",
       "4    1.415204e+06                  0.0   0.0             1.0     0.0   \n",
       "\n",
       "  TYPE_OF_VEHICLE  \n",
       "0      Sports Car  \n",
       "1       HatchBack  \n",
       "2           Sedan  \n",
       "3           Sedan  \n",
       "4           Sedan  "
      ]
     },
     "execution_count": 161,
     "metadata": {},
     "output_type": "execute_result"
    }
   ],
   "source": [
    "df_train.head()"
   ]
  },
  {
   "cell_type": "markdown",
   "id": "943a303c",
   "metadata": {},
   "source": [
    "#### ID & POSTAL_CODE "
   ]
  },
  {
   "cell_type": "code",
   "execution_count": 162,
   "id": "08750645",
   "metadata": {},
   "outputs": [
    {
     "data": {
      "text/plain": [
       "(98485, 105000)"
      ]
     },
     "execution_count": 162,
     "metadata": {},
     "output_type": "execute_result"
    }
   ],
   "source": [
    "df_train[\"ID\"].nunique() ,df_train.shape[0]"
   ]
  },
  {
   "cell_type": "code",
   "execution_count": 163,
   "id": "8a8cfd27",
   "metadata": {},
   "outputs": [
    {
     "data": {
      "text/plain": [
       "(10937, 105000)"
      ]
     },
     "execution_count": 163,
     "metadata": {},
     "output_type": "execute_result"
    }
   ],
   "source": [
    "df_train[\"POSTAL_CODE\"].nunique() ,df_train.shape[0]"
   ]
  },
  {
   "cell_type": "code",
   "execution_count": 164,
   "id": "6676274b",
   "metadata": {},
   "outputs": [
    {
     "data": {
      "text/plain": [
       "9.233959     77608\n",
       "11.430652     1325\n",
       "11.430641      402\n",
       "11.430630      155\n",
       "11.430619      127\n",
       "             ...  \n",
       "10.503340        1\n",
       "10.092992        1\n",
       "10.203481        1\n",
       "10.275809        1\n",
       "9.949178         1\n",
       "Name: POSTAL_CODE, Length: 10937, dtype: int64"
      ]
     },
     "execution_count": 164,
     "metadata": {},
     "output_type": "execute_result"
    }
   ],
   "source": [
    "df_train[\"POSTAL_CODE\"].value_counts()"
   ]
  },
  {
   "cell_type": "markdown",
   "id": "81a877e7",
   "metadata": {},
   "source": [
    "Observation:\n",
    "1. ID is just unique identifier column so better to drop it.\n",
    "2. Postal_code having lot of distinct values so one hot encoding not recommended but we can use either frequency encoding."
   ]
  },
  {
   "cell_type": "markdown",
   "id": "10cbc5b5",
   "metadata": {},
   "source": [
    "#### AGE & INCOME"
   ]
  },
  {
   "cell_type": "code",
   "execution_count": 165,
   "id": "ecee644e",
   "metadata": {},
   "outputs": [
    {
     "data": {
      "text/plain": [
       "40-64    33716\n",
       "65+      32962\n",
       "26-39    20018\n",
       "16-25    18304\n",
       "Name: AGE, dtype: int64"
      ]
     },
     "execution_count": 165,
     "metadata": {},
     "output_type": "execute_result"
    }
   ],
   "source": [
    "df_train[\"AGE\"].value_counts()"
   ]
  },
  {
   "cell_type": "code",
   "execution_count": 166,
   "id": "ebb3b857",
   "metadata": {},
   "outputs": [
    {
     "data": {
      "text/plain": [
       "upper class      51271\n",
       "working class    24454\n",
       "middle class     14738\n",
       "poverty          14537\n",
       "Name: INCOME, dtype: int64"
      ]
     },
     "execution_count": 166,
     "metadata": {},
     "output_type": "execute_result"
    }
   ],
   "source": [
    "df_train[\"INCOME\"].value_counts()"
   ]
  },
  {
   "cell_type": "markdown",
   "id": "d8085575",
   "metadata": {},
   "source": [
    "Observation:\n",
    "- Apply label encoding for AGE and INCOME as their income based order w.r.t to age."
   ]
  },
  {
   "cell_type": "markdown",
   "id": "35102e2c",
   "metadata": {},
   "source": [
    "#### GENDER & EDUCATION"
   ]
  },
  {
   "cell_type": "code",
   "execution_count": 167,
   "id": "d032b1a5",
   "metadata": {},
   "outputs": [
    {
     "data": {
      "text/plain": [
       "male      65317\n",
       "female    39683\n",
       "Name: GENDER, dtype: int64"
      ]
     },
     "execution_count": 167,
     "metadata": {},
     "output_type": "execute_result"
    }
   ],
   "source": [
    "df_train[\"GENDER\"].value_counts()"
   ]
  },
  {
   "cell_type": "code",
   "execution_count": 168,
   "id": "ec056e73",
   "metadata": {},
   "outputs": [
    {
     "data": {
      "text/plain": [
       "high school    46590\n",
       "university     31220\n",
       "none           27190\n",
       "Name: EDUCATION, dtype: int64"
      ]
     },
     "execution_count": 168,
     "metadata": {},
     "output_type": "execute_result"
    }
   ],
   "source": [
    "df_train[\"EDUCATION\"].value_counts()"
   ]
  },
  {
   "cell_type": "markdown",
   "id": "cd4c3104",
   "metadata": {},
   "source": [
    "Observation:\n",
    "1. One hot encode GENDER column\n",
    "2. Label enocode EDUCATION column as it affects whether insurance claim is strong or not."
   ]
  },
  {
   "cell_type": "markdown",
   "id": "0d2792cb",
   "metadata": {},
   "source": [
    "#### DRIVING_EXPERIENCE & VEHICLE_OWNERSHIP"
   ]
  },
  {
   "cell_type": "code",
   "execution_count": 169,
   "id": "c24f0603",
   "metadata": {},
   "outputs": [
    {
     "data": {
      "text/plain": [
       "20-29y    37493\n",
       "0-9y      33111\n",
       "10-19y    25101\n",
       "30y+       9295\n",
       "Name: DRIVING_EXPERIENCE, dtype: int64"
      ]
     },
     "execution_count": 169,
     "metadata": {},
     "output_type": "execute_result"
    }
   ],
   "source": [
    "df_train[\"DRIVING_EXPERIENCE\"].value_counts()"
   ]
  },
  {
   "cell_type": "code",
   "execution_count": 170,
   "id": "713fd5e6",
   "metadata": {},
   "outputs": [
    {
     "data": {
      "text/plain": [
       "1.0    86839\n",
       "0.0    18161\n",
       "Name: VEHICLE_OWNERSHIP, dtype: int64"
      ]
     },
     "execution_count": 170,
     "metadata": {},
     "output_type": "execute_result"
    }
   ],
   "source": [
    "df_train[\"VEHICLE_OWNERSHIP\"].value_counts()"
   ]
  },
  {
   "cell_type": "markdown",
   "id": "fcf95f12",
   "metadata": {},
   "source": [
    "Observation:\n",
    "- Label encode the DRIVING_EXPERIENCE column as experince major factor in insurance claim."
   ]
  },
  {
   "cell_type": "markdown",
   "id": "4e94c337",
   "metadata": {},
   "source": [
    "#### VEHICLE_YEAR & TYPE_OF_VEHICLE"
   ]
  },
  {
   "cell_type": "code",
   "execution_count": 171,
   "id": "57115db2",
   "metadata": {},
   "outputs": [
    {
     "data": {
      "text/plain": [
       "before 2015    57511\n",
       "after 2015     47489\n",
       "Name: VEHICLE_YEAR, dtype: int64"
      ]
     },
     "execution_count": 171,
     "metadata": {},
     "output_type": "execute_result"
    }
   ],
   "source": [
    "df_train[\"VEHICLE_YEAR\"].value_counts()"
   ]
  },
  {
   "cell_type": "code",
   "execution_count": 172,
   "id": "60ea25d5",
   "metadata": {},
   "outputs": [
    {
     "data": {
      "text/plain": [
       "Sports Car    34592\n",
       "Sedan         28120\n",
       "HatchBack     24900\n",
       "SUV           17388\n",
       "Name: TYPE_OF_VEHICLE, dtype: int64"
      ]
     },
     "execution_count": 172,
     "metadata": {},
     "output_type": "execute_result"
    }
   ],
   "source": [
    "df_train[\"TYPE_OF_VEHICLE\"].value_counts()"
   ]
  },
  {
   "cell_type": "markdown",
   "id": "55403250",
   "metadata": {},
   "source": [
    "Observation:\n",
    "- One hot encode both VEHICLE_YEAR & TYPE_OF_VEHICLE columns."
   ]
  },
  {
   "cell_type": "markdown",
   "id": "c6311f48",
   "metadata": {},
   "source": [
    "#### MARRIED & CHILDREN"
   ]
  },
  {
   "cell_type": "code",
   "execution_count": 173,
   "id": "5efdae04",
   "metadata": {},
   "outputs": [
    {
     "data": {
      "text/plain": [
       "1.0    61335\n",
       "0.0    43665\n",
       "Name: MARRIED, dtype: int64"
      ]
     },
     "execution_count": 173,
     "metadata": {},
     "output_type": "execute_result"
    }
   ],
   "source": [
    "df_train[\"MARRIED\"].value_counts()"
   ]
  },
  {
   "cell_type": "code",
   "execution_count": 174,
   "id": "cd269eaf",
   "metadata": {},
   "outputs": [
    {
     "data": {
      "text/plain": [
       "1.0    54600\n",
       "0.0    50400\n",
       "Name: CHILDREN, dtype: int64"
      ]
     },
     "execution_count": 174,
     "metadata": {},
     "output_type": "execute_result"
    }
   ],
   "source": [
    "df_train[\"CHILDREN\"].value_counts()"
   ]
  },
  {
   "cell_type": "markdown",
   "id": "e261bc9c",
   "metadata": {},
   "source": [
    "## Data Preprocessing - Encoding"
   ]
  },
  {
   "cell_type": "code",
   "execution_count": 175,
   "id": "761e4c2f",
   "metadata": {},
   "outputs": [
    {
     "data": {
      "text/html": [
       "<div>\n",
       "<style scoped>\n",
       "    .dataframe tbody tr th:only-of-type {\n",
       "        vertical-align: middle;\n",
       "    }\n",
       "\n",
       "    .dataframe tbody tr th {\n",
       "        vertical-align: top;\n",
       "    }\n",
       "\n",
       "    .dataframe thead th {\n",
       "        text-align: right;\n",
       "    }\n",
       "</style>\n",
       "<table border=\"1\" class=\"dataframe\">\n",
       "  <thead>\n",
       "    <tr style=\"text-align: right;\">\n",
       "      <th></th>\n",
       "      <th>ID</th>\n",
       "      <th>AGE</th>\n",
       "      <th>GENDER</th>\n",
       "      <th>DRIVING_EXPERIENCE</th>\n",
       "      <th>EDUCATION</th>\n",
       "      <th>INCOME</th>\n",
       "      <th>CREDIT_SCORE</th>\n",
       "      <th>VEHICLE_OWNERSHIP</th>\n",
       "      <th>VEHICLE_YEAR</th>\n",
       "      <th>MARRIED</th>\n",
       "      <th>CHILDREN</th>\n",
       "      <th>POSTAL_CODE</th>\n",
       "      <th>ANNUAL_MILEAGE</th>\n",
       "      <th>SPEEDING_VIOLATIONS</th>\n",
       "      <th>DUIS</th>\n",
       "      <th>PAST_ACCIDENTS</th>\n",
       "      <th>OUTCOME</th>\n",
       "      <th>TYPE_OF_VEHICLE</th>\n",
       "    </tr>\n",
       "  </thead>\n",
       "  <tbody>\n",
       "    <tr>\n",
       "      <th>0</th>\n",
       "      <td>816393</td>\n",
       "      <td>40-64</td>\n",
       "      <td>female</td>\n",
       "      <td>20-29y</td>\n",
       "      <td>university</td>\n",
       "      <td>middle class</td>\n",
       "      <td>0.638050</td>\n",
       "      <td>0.0</td>\n",
       "      <td>after 2015</td>\n",
       "      <td>0.0</td>\n",
       "      <td>0.0</td>\n",
       "      <td>10.528891</td>\n",
       "      <td>8.842932e+05</td>\n",
       "      <td>0.0</td>\n",
       "      <td>0.0</td>\n",
       "      <td>0.0</td>\n",
       "      <td>0.0</td>\n",
       "      <td>Sports Car</td>\n",
       "    </tr>\n",
       "    <tr>\n",
       "      <th>1</th>\n",
       "      <td>251762</td>\n",
       "      <td>26-39</td>\n",
       "      <td>male</td>\n",
       "      <td>20-29y</td>\n",
       "      <td>high school</td>\n",
       "      <td>middle class</td>\n",
       "      <td>0.475741</td>\n",
       "      <td>1.0</td>\n",
       "      <td>before 2015</td>\n",
       "      <td>1.0</td>\n",
       "      <td>0.0</td>\n",
       "      <td>9.233959</td>\n",
       "      <td>6.523248e+05</td>\n",
       "      <td>0.0</td>\n",
       "      <td>0.0</td>\n",
       "      <td>0.0</td>\n",
       "      <td>1.0</td>\n",
       "      <td>HatchBack</td>\n",
       "    </tr>\n",
       "    <tr>\n",
       "      <th>2</th>\n",
       "      <td>481952</td>\n",
       "      <td>40-64</td>\n",
       "      <td>male</td>\n",
       "      <td>20-29y</td>\n",
       "      <td>none</td>\n",
       "      <td>middle class</td>\n",
       "      <td>0.839817</td>\n",
       "      <td>1.0</td>\n",
       "      <td>before 2015</td>\n",
       "      <td>1.0</td>\n",
       "      <td>1.0</td>\n",
       "      <td>9.233959</td>\n",
       "      <td>1.008996e+06</td>\n",
       "      <td>0.0</td>\n",
       "      <td>0.0</td>\n",
       "      <td>0.0</td>\n",
       "      <td>1.0</td>\n",
       "      <td>Sedan</td>\n",
       "    </tr>\n",
       "    <tr>\n",
       "      <th>3</th>\n",
       "      <td>3506</td>\n",
       "      <td>40-64</td>\n",
       "      <td>male</td>\n",
       "      <td>20-29y</td>\n",
       "      <td>high school</td>\n",
       "      <td>upper class</td>\n",
       "      <td>0.682527</td>\n",
       "      <td>1.0</td>\n",
       "      <td>before 2015</td>\n",
       "      <td>0.0</td>\n",
       "      <td>1.0</td>\n",
       "      <td>11.430630</td>\n",
       "      <td>3.527635e+05</td>\n",
       "      <td>1.0</td>\n",
       "      <td>1.0</td>\n",
       "      <td>0.0</td>\n",
       "      <td>1.0</td>\n",
       "      <td>Sedan</td>\n",
       "    </tr>\n",
       "    <tr>\n",
       "      <th>4</th>\n",
       "      <td>498013</td>\n",
       "      <td>40-64</td>\n",
       "      <td>female</td>\n",
       "      <td>20-29y</td>\n",
       "      <td>none</td>\n",
       "      <td>working class</td>\n",
       "      <td>0.572184</td>\n",
       "      <td>1.0</td>\n",
       "      <td>after 2015</td>\n",
       "      <td>1.0</td>\n",
       "      <td>1.0</td>\n",
       "      <td>10.377328</td>\n",
       "      <td>1.415204e+06</td>\n",
       "      <td>0.0</td>\n",
       "      <td>0.0</td>\n",
       "      <td>1.0</td>\n",
       "      <td>0.0</td>\n",
       "      <td>Sedan</td>\n",
       "    </tr>\n",
       "  </tbody>\n",
       "</table>\n",
       "</div>"
      ],
      "text/plain": [
       "       ID    AGE  GENDER DRIVING_EXPERIENCE    EDUCATION         INCOME  \\\n",
       "0  816393  40-64  female             20-29y   university   middle class   \n",
       "1  251762  26-39    male             20-29y  high school   middle class   \n",
       "2  481952  40-64    male             20-29y         none   middle class   \n",
       "3    3506  40-64    male             20-29y  high school    upper class   \n",
       "4  498013  40-64  female             20-29y         none  working class   \n",
       "\n",
       "   CREDIT_SCORE VEHICLE_OWNERSHIP VEHICLE_YEAR MARRIED CHILDREN  POSTAL_CODE  \\\n",
       "0      0.638050               0.0   after 2015     0.0      0.0    10.528891   \n",
       "1      0.475741               1.0  before 2015     1.0      0.0     9.233959   \n",
       "2      0.839817               1.0  before 2015     1.0      1.0     9.233959   \n",
       "3      0.682527               1.0  before 2015     0.0      1.0    11.430630   \n",
       "4      0.572184               1.0   after 2015     1.0      1.0    10.377328   \n",
       "\n",
       "   ANNUAL_MILEAGE  SPEEDING_VIOLATIONS  DUIS  PAST_ACCIDENTS OUTCOME  \\\n",
       "0    8.842932e+05                  0.0   0.0             0.0     0.0   \n",
       "1    6.523248e+05                  0.0   0.0             0.0     1.0   \n",
       "2    1.008996e+06                  0.0   0.0             0.0     1.0   \n",
       "3    3.527635e+05                  1.0   1.0             0.0     1.0   \n",
       "4    1.415204e+06                  0.0   0.0             1.0     0.0   \n",
       "\n",
       "  TYPE_OF_VEHICLE  \n",
       "0      Sports Car  \n",
       "1       HatchBack  \n",
       "2           Sedan  \n",
       "3           Sedan  \n",
       "4           Sedan  "
      ]
     },
     "execution_count": 175,
     "metadata": {},
     "output_type": "execute_result"
    }
   ],
   "source": [
    "df_train.head()"
   ]
  },
  {
   "cell_type": "code",
   "execution_count": 176,
   "id": "7ca1e5a3",
   "metadata": {},
   "outputs": [
    {
     "data": {
      "text/plain": [
       "20-29y    37493\n",
       "0-9y      33111\n",
       "10-19y    25101\n",
       "30y+       9295\n",
       "Name: DRIVING_EXPERIENCE, dtype: int64"
      ]
     },
     "execution_count": 176,
     "metadata": {},
     "output_type": "execute_result"
    }
   ],
   "source": [
    "df_train[\"DRIVING_EXPERIENCE\"].value_counts()"
   ]
  },
  {
   "cell_type": "code",
   "execution_count": 177,
   "id": "c1cb6206",
   "metadata": {},
   "outputs": [],
   "source": [
    "## Label Encoding\n",
    "df_train[\"AGE\"] = df_train[\"AGE\"].map({'16-25':0,'26-39':1,'40-64':2,'65+':3})\n",
    "df_train[\"INCOME\"] = df_train[\"INCOME\"].map({'poverty':0,'middle class':1,'working class':2,'upper class':3})\n",
    "df_train[\"EDUCATION\"] = df_train[\"EDUCATION\"].map({'none':0,'high school':1,'university':2})\n",
    "df_train[\"DRIVING_EXPERIENCE\"] = df_train[\"DRIVING_EXPERIENCE\"].map({'0-9y':0,'10-19y':1,'20-29y':2,'30y+':3})"
   ]
  },
  {
   "cell_type": "code",
   "execution_count": 178,
   "id": "d879b3ad",
   "metadata": {},
   "outputs": [],
   "source": [
    "## Fequency Encoding\n",
    "pc_dict = df_train[\"POSTAL_CODE\"].value_counts(normalize=True).to_dict()\n",
    "df_train[\"POSTAL_CODE\"] = df_train[\"POSTAL_CODE\"].map(pc_dict)"
   ]
  },
  {
   "cell_type": "code",
   "execution_count": 179,
   "id": "78c9ef7f",
   "metadata": {},
   "outputs": [],
   "source": [
    "## One hot encoding\n",
    "encode_list = ['GENDER','VEHICLE_YEAR','TYPE_OF_VEHICLE']\n",
    "df_train = pd.get_dummies(data=df_train,columns=encode_list,drop_first=True)"
   ]
  },
  {
   "cell_type": "code",
   "execution_count": 180,
   "id": "eb176d14",
   "metadata": {},
   "outputs": [],
   "source": [
    "## Drop ID column\n",
    "df_train.drop(columns=['ID','POSTAL_CODE'],axis=1,inplace=True)"
   ]
  },
  {
   "cell_type": "code",
   "execution_count": 181,
   "id": "66768c2a",
   "metadata": {},
   "outputs": [
    {
     "data": {
      "text/html": [
       "<div>\n",
       "<style scoped>\n",
       "    .dataframe tbody tr th:only-of-type {\n",
       "        vertical-align: middle;\n",
       "    }\n",
       "\n",
       "    .dataframe tbody tr th {\n",
       "        vertical-align: top;\n",
       "    }\n",
       "\n",
       "    .dataframe thead th {\n",
       "        text-align: right;\n",
       "    }\n",
       "</style>\n",
       "<table border=\"1\" class=\"dataframe\">\n",
       "  <thead>\n",
       "    <tr style=\"text-align: right;\">\n",
       "      <th></th>\n",
       "      <th>AGE</th>\n",
       "      <th>DRIVING_EXPERIENCE</th>\n",
       "      <th>EDUCATION</th>\n",
       "      <th>INCOME</th>\n",
       "      <th>CREDIT_SCORE</th>\n",
       "      <th>VEHICLE_OWNERSHIP</th>\n",
       "      <th>MARRIED</th>\n",
       "      <th>CHILDREN</th>\n",
       "      <th>ANNUAL_MILEAGE</th>\n",
       "      <th>SPEEDING_VIOLATIONS</th>\n",
       "      <th>DUIS</th>\n",
       "      <th>PAST_ACCIDENTS</th>\n",
       "      <th>OUTCOME</th>\n",
       "      <th>GENDER_male</th>\n",
       "      <th>VEHICLE_YEAR_before 2015</th>\n",
       "      <th>TYPE_OF_VEHICLE_SUV</th>\n",
       "      <th>TYPE_OF_VEHICLE_Sedan</th>\n",
       "      <th>TYPE_OF_VEHICLE_Sports Car</th>\n",
       "    </tr>\n",
       "  </thead>\n",
       "  <tbody>\n",
       "    <tr>\n",
       "      <th>0</th>\n",
       "      <td>2</td>\n",
       "      <td>2</td>\n",
       "      <td>2</td>\n",
       "      <td>1</td>\n",
       "      <td>0.638050</td>\n",
       "      <td>0.0</td>\n",
       "      <td>0.0</td>\n",
       "      <td>0.0</td>\n",
       "      <td>8.842932e+05</td>\n",
       "      <td>0.0</td>\n",
       "      <td>0.0</td>\n",
       "      <td>0.0</td>\n",
       "      <td>0.0</td>\n",
       "      <td>0</td>\n",
       "      <td>0</td>\n",
       "      <td>0</td>\n",
       "      <td>0</td>\n",
       "      <td>1</td>\n",
       "    </tr>\n",
       "    <tr>\n",
       "      <th>1</th>\n",
       "      <td>1</td>\n",
       "      <td>2</td>\n",
       "      <td>1</td>\n",
       "      <td>1</td>\n",
       "      <td>0.475741</td>\n",
       "      <td>1.0</td>\n",
       "      <td>1.0</td>\n",
       "      <td>0.0</td>\n",
       "      <td>6.523248e+05</td>\n",
       "      <td>0.0</td>\n",
       "      <td>0.0</td>\n",
       "      <td>0.0</td>\n",
       "      <td>1.0</td>\n",
       "      <td>1</td>\n",
       "      <td>1</td>\n",
       "      <td>0</td>\n",
       "      <td>0</td>\n",
       "      <td>0</td>\n",
       "    </tr>\n",
       "    <tr>\n",
       "      <th>2</th>\n",
       "      <td>2</td>\n",
       "      <td>2</td>\n",
       "      <td>0</td>\n",
       "      <td>1</td>\n",
       "      <td>0.839817</td>\n",
       "      <td>1.0</td>\n",
       "      <td>1.0</td>\n",
       "      <td>1.0</td>\n",
       "      <td>1.008996e+06</td>\n",
       "      <td>0.0</td>\n",
       "      <td>0.0</td>\n",
       "      <td>0.0</td>\n",
       "      <td>1.0</td>\n",
       "      <td>1</td>\n",
       "      <td>1</td>\n",
       "      <td>0</td>\n",
       "      <td>1</td>\n",
       "      <td>0</td>\n",
       "    </tr>\n",
       "    <tr>\n",
       "      <th>3</th>\n",
       "      <td>2</td>\n",
       "      <td>2</td>\n",
       "      <td>1</td>\n",
       "      <td>3</td>\n",
       "      <td>0.682527</td>\n",
       "      <td>1.0</td>\n",
       "      <td>0.0</td>\n",
       "      <td>1.0</td>\n",
       "      <td>3.527635e+05</td>\n",
       "      <td>1.0</td>\n",
       "      <td>1.0</td>\n",
       "      <td>0.0</td>\n",
       "      <td>1.0</td>\n",
       "      <td>1</td>\n",
       "      <td>1</td>\n",
       "      <td>0</td>\n",
       "      <td>1</td>\n",
       "      <td>0</td>\n",
       "    </tr>\n",
       "    <tr>\n",
       "      <th>4</th>\n",
       "      <td>2</td>\n",
       "      <td>2</td>\n",
       "      <td>0</td>\n",
       "      <td>2</td>\n",
       "      <td>0.572184</td>\n",
       "      <td>1.0</td>\n",
       "      <td>1.0</td>\n",
       "      <td>1.0</td>\n",
       "      <td>1.415204e+06</td>\n",
       "      <td>0.0</td>\n",
       "      <td>0.0</td>\n",
       "      <td>1.0</td>\n",
       "      <td>0.0</td>\n",
       "      <td>0</td>\n",
       "      <td>0</td>\n",
       "      <td>0</td>\n",
       "      <td>1</td>\n",
       "      <td>0</td>\n",
       "    </tr>\n",
       "  </tbody>\n",
       "</table>\n",
       "</div>"
      ],
      "text/plain": [
       "   AGE  DRIVING_EXPERIENCE  EDUCATION  INCOME  CREDIT_SCORE VEHICLE_OWNERSHIP  \\\n",
       "0    2                   2          2       1      0.638050               0.0   \n",
       "1    1                   2          1       1      0.475741               1.0   \n",
       "2    2                   2          0       1      0.839817               1.0   \n",
       "3    2                   2          1       3      0.682527               1.0   \n",
       "4    2                   2          0       2      0.572184               1.0   \n",
       "\n",
       "  MARRIED CHILDREN  ANNUAL_MILEAGE  SPEEDING_VIOLATIONS  DUIS  PAST_ACCIDENTS  \\\n",
       "0     0.0      0.0    8.842932e+05                  0.0   0.0             0.0   \n",
       "1     1.0      0.0    6.523248e+05                  0.0   0.0             0.0   \n",
       "2     1.0      1.0    1.008996e+06                  0.0   0.0             0.0   \n",
       "3     0.0      1.0    3.527635e+05                  1.0   1.0             0.0   \n",
       "4     1.0      1.0    1.415204e+06                  0.0   0.0             1.0   \n",
       "\n",
       "  OUTCOME  GENDER_male  VEHICLE_YEAR_before 2015  TYPE_OF_VEHICLE_SUV  \\\n",
       "0     0.0            0                         0                    0   \n",
       "1     1.0            1                         1                    0   \n",
       "2     1.0            1                         1                    0   \n",
       "3     1.0            1                         1                    0   \n",
       "4     0.0            0                         0                    0   \n",
       "\n",
       "   TYPE_OF_VEHICLE_Sedan  TYPE_OF_VEHICLE_Sports Car  \n",
       "0                      0                           1  \n",
       "1                      0                           0  \n",
       "2                      1                           0  \n",
       "3                      1                           0  \n",
       "4                      1                           0  "
      ]
     },
     "execution_count": 181,
     "metadata": {},
     "output_type": "execute_result"
    }
   ],
   "source": [
    "df_train.head()"
   ]
  },
  {
   "cell_type": "code",
   "execution_count": 182,
   "id": "c91c7aaa",
   "metadata": {},
   "outputs": [
    {
     "name": "stdout",
     "output_type": "stream",
     "text": [
      "<class 'pandas.core.frame.DataFrame'>\n",
      "RangeIndex: 105000 entries, 0 to 104999\n",
      "Data columns (total 18 columns):\n",
      " #   Column                      Non-Null Count   Dtype   \n",
      "---  ------                      --------------   -----   \n",
      " 0   AGE                         105000 non-null  int64   \n",
      " 1   DRIVING_EXPERIENCE          105000 non-null  int64   \n",
      " 2   EDUCATION                   105000 non-null  int64   \n",
      " 3   INCOME                      105000 non-null  int64   \n",
      " 4   CREDIT_SCORE                105000 non-null  float64 \n",
      " 5   VEHICLE_OWNERSHIP           105000 non-null  category\n",
      " 6   MARRIED                     105000 non-null  category\n",
      " 7   CHILDREN                    105000 non-null  category\n",
      " 8   ANNUAL_MILEAGE              105000 non-null  float64 \n",
      " 9   SPEEDING_VIOLATIONS         105000 non-null  float64 \n",
      " 10  DUIS                        105000 non-null  float64 \n",
      " 11  PAST_ACCIDENTS              105000 non-null  float64 \n",
      " 12  OUTCOME                     105000 non-null  category\n",
      " 13  GENDER_male                 105000 non-null  uint8   \n",
      " 14  VEHICLE_YEAR_before 2015    105000 non-null  uint8   \n",
      " 15  TYPE_OF_VEHICLE_SUV         105000 non-null  uint8   \n",
      " 16  TYPE_OF_VEHICLE_Sedan       105000 non-null  uint8   \n",
      " 17  TYPE_OF_VEHICLE_Sports Car  105000 non-null  uint8   \n",
      "dtypes: category(4), float64(5), int64(4), uint8(5)\n",
      "memory usage: 8.1 MB\n"
     ]
    }
   ],
   "source": [
    "df_train.info()"
   ]
  },
  {
   "cell_type": "markdown",
   "id": "59ca749d",
   "metadata": {},
   "source": [
    "# Model Building"
   ]
  },
  {
   "cell_type": "markdown",
   "id": "26522b6b",
   "metadata": {},
   "source": [
    "## Spliting features & target values"
   ]
  },
  {
   "cell_type": "code",
   "execution_count": 183,
   "id": "afa98f86",
   "metadata": {},
   "outputs": [],
   "source": [
    "x = df_train.drop(\"OUTCOME\",axis=1)\n",
    "y = df_train[\"OUTCOME\"]"
   ]
  },
  {
   "cell_type": "code",
   "execution_count": 184,
   "id": "b03953f1",
   "metadata": {},
   "outputs": [
    {
     "data": {
      "text/plain": [
       "((105000, 17), (105000,))"
      ]
     },
     "execution_count": 184,
     "metadata": {},
     "output_type": "execute_result"
    }
   ],
   "source": [
    "x.shape,y.shape"
   ]
  },
  {
   "cell_type": "markdown",
   "id": "7f8e3a69",
   "metadata": {},
   "source": [
    "## Spliting data into train and test"
   ]
  },
  {
   "cell_type": "code",
   "execution_count": 185,
   "id": "d410b2b9",
   "metadata": {},
   "outputs": [],
   "source": [
    "# Importing the train test split function\n",
    "from sklearn.model_selection import train_test_split\n",
    "x_train,x_valid,y_train,y_valid = train_test_split(x,y,test_size=0.3,shuffle=True,random_state = 56,stratify=y)"
   ]
  },
  {
   "cell_type": "code",
   "execution_count": 186,
   "id": "666f3727",
   "metadata": {},
   "outputs": [
    {
     "data": {
      "text/plain": [
       "((73500, 17), (31500, 17), (73500,), (31500,))"
      ]
     },
     "execution_count": 186,
     "metadata": {},
     "output_type": "execute_result"
    }
   ],
   "source": [
    "x_train.shape, x_valid.shape, y_train.shape, y_valid.shape"
   ]
  },
  {
   "cell_type": "markdown",
   "id": "deafc782",
   "metadata": {},
   "source": [
    "## Standardization"
   ]
  },
  {
   "cell_type": "code",
   "execution_count": 187,
   "id": "67c849ba",
   "metadata": {},
   "outputs": [],
   "source": [
    "from sklearn.preprocessing import StandardScaler\n",
    "\n",
    "scaler = StandardScaler()\n",
    "x_train = scaler.fit_transform(x_train)\n",
    "x_valid = scaler.transform(x_valid)"
   ]
  },
  {
   "cell_type": "markdown",
   "id": "6a7303ab",
   "metadata": {},
   "source": [
    "### Model Training Function"
   ]
  },
  {
   "cell_type": "code",
   "execution_count": 188,
   "id": "1f38ee66",
   "metadata": {},
   "outputs": [],
   "source": [
    "def model_train_func(model):\n",
    "    \n",
    "    ## Fit on training data\n",
    "    model.fit(x_train,y_train)\n",
    "    \n",
    "    ## Predict values using train data\n",
    "    y_train_prob = model.predict_proba(x_train)[:,1]\n",
    "    y_train_predict = model.predict(x_train)\n",
    "    ## Predict values using validation data\n",
    "    y_valid_prob = model.predict_proba(x_valid)[:,1]\n",
    "    y_valid_predict = model.predict(x_valid)\n",
    "    \n",
    "    ## Model Evaluation\n",
    "    # F1 score on train-test data\n",
    "    train_f1score = f1_score(y_train,y_train_predict)\n",
    "    valid_f1score = f1_score(y_valid,y_valid_predict)\n",
    "    \n",
    "    # Log loss for train & validation data\n",
    "    train_logloss = log_loss(y_train,y_train_predict)\n",
    "    valid_logloss = log_loss(y_valid,y_valid_predict)\n",
    "    \n",
    "    ## Confusion matrix\n",
    "    cf_matrix=confusion_matrix(y_valid,y_valid_predict)\n",
    "    print(cf_matrix)\n",
    "    sns.heatmap(cf_matrix,annot=True)\n",
    "    \n",
    "    print(f\"F1 score on train data ={train_f1score}\")\n",
    "    print(f\"F1 score on validation data ={valid_f1score}\")\n",
    "    print(f\"Log_loss on train data = {train_logloss}\")\n",
    "    print(f\"log_loss on validation data = {valid_logloss}\")\n",
    "    print(classification_report(y_valid,y_valid_predict))\n",
    "    \n",
    "    return y_train_prob,y_valid_prob,valid_logloss,valid_f1score"
   ]
  },
  {
   "cell_type": "code",
   "execution_count": 189,
   "id": "14da5f43",
   "metadata": {},
   "outputs": [],
   "source": [
    "from sklearn.model_selection import cross_val_score\n",
    "from sklearn.model_selection import KFold,StratifiedKFold\n",
    "\n",
    "#Stratified k-Fold Cross Validation with shuffle split \n",
    "kfold = StratifiedKFold(n_splits=5,shuffle=True,random_state=11)"
   ]
  },
  {
   "cell_type": "markdown",
   "id": "de67a798",
   "metadata": {},
   "source": [
    "## Model 1 : Logistic Regression"
   ]
  },
  {
   "cell_type": "code",
   "execution_count": 190,
   "id": "a9aa6fa3",
   "metadata": {},
   "outputs": [],
   "source": [
    "def Val_score_func(c_list):\n",
    "    avg_logloss_score = []\n",
    "    \n",
    "    for i in c_list:\n",
    "        logloss_score = cross_val_score(estimator= LogisticRegression(C=i,random_state=11,n_jobs=-1),\n",
    "                                  X=x_train, y=y_train, cv=kfold, scoring='neg_log_loss')\n",
    "        \n",
    "        # Adding mean logloss_score to avg list\n",
    "        avg_logloss_score.append(logloss_score.mean())\n",
    "        \n",
    "    return avg_logloss_score"
   ]
  },
  {
   "cell_type": "code",
   "execution_count": 191,
   "id": "b8f52109",
   "metadata": {},
   "outputs": [],
   "source": [
    "# Cross validation\n",
    "c_list = [0.00001,0.0001,0.001,0.01,0.1]\n",
    "logreg_cv = Val_score_func(c_list)"
   ]
  },
  {
   "cell_type": "code",
   "execution_count": 192,
   "id": "bdf853f0",
   "metadata": {},
   "outputs": [
    {
     "data": {
      "text/html": [
       "<div>\n",
       "<style scoped>\n",
       "    .dataframe tbody tr th:only-of-type {\n",
       "        vertical-align: middle;\n",
       "    }\n",
       "\n",
       "    .dataframe tbody tr th {\n",
       "        vertical-align: top;\n",
       "    }\n",
       "\n",
       "    .dataframe thead th {\n",
       "        text-align: right;\n",
       "    }\n",
       "</style>\n",
       "<table border=\"1\" class=\"dataframe\">\n",
       "  <thead>\n",
       "    <tr style=\"text-align: right;\">\n",
       "      <th></th>\n",
       "      <th>C</th>\n",
       "      <th>logloss_score</th>\n",
       "    </tr>\n",
       "  </thead>\n",
       "  <tbody>\n",
       "    <tr>\n",
       "      <th>1</th>\n",
       "      <td>0.00010</td>\n",
       "      <td>-0.681066</td>\n",
       "    </tr>\n",
       "    <tr>\n",
       "      <th>0</th>\n",
       "      <td>0.00001</td>\n",
       "      <td>-0.681103</td>\n",
       "    </tr>\n",
       "    <tr>\n",
       "      <th>2</th>\n",
       "      <td>0.00100</td>\n",
       "      <td>-0.681113</td>\n",
       "    </tr>\n",
       "    <tr>\n",
       "      <th>3</th>\n",
       "      <td>0.01000</td>\n",
       "      <td>-0.681131</td>\n",
       "    </tr>\n",
       "    <tr>\n",
       "      <th>4</th>\n",
       "      <td>0.10000</td>\n",
       "      <td>-0.681135</td>\n",
       "    </tr>\n",
       "  </tbody>\n",
       "</table>\n",
       "</div>"
      ],
      "text/plain": [
       "         C  logloss_score\n",
       "1  0.00010      -0.681066\n",
       "0  0.00001      -0.681103\n",
       "2  0.00100      -0.681113\n",
       "3  0.01000      -0.681131\n",
       "4  0.10000      -0.681135"
      ]
     },
     "execution_count": 192,
     "metadata": {},
     "output_type": "execute_result"
    }
   ],
   "source": [
    "pd.DataFrame({'C': c_list, 'logloss_score':logreg_cv}).sort_values(by=['logloss_score'],ascending=False)"
   ]
  },
  {
   "cell_type": "code",
   "execution_count": 193,
   "id": "84ae4872",
   "metadata": {},
   "outputs": [
    {
     "data": {
      "text/plain": [
       "Text(0.5, 1.0, 'Mean Validation score')"
      ]
     },
     "execution_count": 193,
     "metadata": {},
     "output_type": "execute_result"
    },
    {
     "data": {
      "image/png": "[encoded data removed]",
      "text/plain": [
       "<Figure size 864x432 with 1 Axes>"
      ]
     },
     "metadata": {
      "needs_background": "light"
     },
     "output_type": "display_data"
    }
   ],
   "source": [
    "plt.figure(figsize=(12,6))\n",
    "plt.plot(c_list,logreg_cv)\n",
    "plt.xlabel('C value')\n",
    "plt.ylabel('Logloss Score')\n",
    "plt.title('Mean Validation score')"
   ]
  },
  {
   "cell_type": "markdown",
   "id": "cd1aa712",
   "metadata": {},
   "source": [
    "### Take C = 0.0001 as optimal value"
   ]
  },
  {
   "cell_type": "code",
   "execution_count": 194,
   "id": "2b7483a9",
   "metadata": {},
   "outputs": [
    {
     "name": "stdout",
     "output_type": "stream",
     "text": [
      "[[9375 8812]\n",
      " [6630 6683]]\n",
      "F1 score on train data =0.462508176250223\n",
      "F1 score on validation data =0.4639683421271869\n",
      "Log_loss on train data = 16.990483110510638\n",
      "log_loss on validation data = 16.931899401357636\n",
      "              precision    recall  f1-score   support\n",
      "\n",
      "         0.0       0.59      0.52      0.55     18187\n",
      "         1.0       0.43      0.50      0.46     13313\n",
      "\n",
      "    accuracy                           0.51     31500\n",
      "   macro avg       0.51      0.51      0.51     31500\n",
      "weighted avg       0.52      0.51      0.51     31500\n",
      "\n"
     ]
    },
    {
     "data": {
      "image/png": "[encoded data removed]",
      "text/plain": [
       "<Figure size 432x288 with 2 Axes>"
      ]
     },
     "metadata": {
      "needs_background": "light"
     },
     "output_type": "display_data"
    }
   ],
   "source": [
    "## Logistic Regression Model Building\n",
    "model_logreg = LogisticRegression(penalty='l2',C=0.0001,solver='lbfgs',class_weight='balanced',\n",
    "                                  verbose=0,random_state=11,n_jobs=-1)\n",
    "\n",
    "y_train_prob_logreg,y_valid_prob_logreg,logloss_logreg,f1score_logreg = model_train_func(model_logreg)"
   ]
  },
  {
   "cell_type": "markdown",
   "id": "882aff71",
   "metadata": {},
   "source": [
    "## Model 2 : KNN Classifier"
   ]
  },
  {
   "cell_type": "code",
   "execution_count": 195,
   "id": "834ec52c",
   "metadata": {},
   "outputs": [],
   "source": [
    "from sklearn.neighbors import KNeighborsClassifier as KNC"
   ]
  },
  {
   "cell_type": "code",
   "execution_count": 196,
   "id": "8174972f",
   "metadata": {},
   "outputs": [],
   "source": [
    "def Val_score_func(n_neighbors):\n",
    "    avg_logloss_score = []\n",
    "    \n",
    "    for i in n_neighbors:\n",
    "        logloss_score = cross_val_score(estimator= KNC(n_neighbors=i,weights='distance',n_jobs=-1),\n",
    "                                  X=x_train, y=y_train, cv=kfold, scoring='neg_log_loss')\n",
    "        \n",
    "        # Adding mean logloss_score to avg list\n",
    "        avg_logloss_score.append(logloss_score.mean())\n",
    "        \n",
    "    return avg_logloss_score"
   ]
  },
  {
   "cell_type": "code",
   "execution_count": 197,
   "id": "61e906f3",
   "metadata": {},
   "outputs": [],
   "source": [
    "k = [101,201,301,401,501]\n",
    "knn_cv = Val_score_func(k)"
   ]
  },
  {
   "cell_type": "code",
   "execution_count": 198,
   "id": "1502d11a",
   "metadata": {},
   "outputs": [
    {
     "data": {
      "text/html": [
       "<div>\n",
       "<style scoped>\n",
       "    .dataframe tbody tr th:only-of-type {\n",
       "        vertical-align: middle;\n",
       "    }\n",
       "\n",
       "    .dataframe tbody tr th {\n",
       "        vertical-align: top;\n",
       "    }\n",
       "\n",
       "    .dataframe thead th {\n",
       "        text-align: right;\n",
       "    }\n",
       "</style>\n",
       "<table border=\"1\" class=\"dataframe\">\n",
       "  <thead>\n",
       "    <tr style=\"text-align: right;\">\n",
       "      <th></th>\n",
       "      <th>n_neighbors</th>\n",
       "      <th>logloss_score</th>\n",
       "    </tr>\n",
       "  </thead>\n",
       "  <tbody>\n",
       "    <tr>\n",
       "      <th>4</th>\n",
       "      <td>501</td>\n",
       "      <td>-0.685106</td>\n",
       "    </tr>\n",
       "    <tr>\n",
       "      <th>3</th>\n",
       "      <td>401</td>\n",
       "      <td>-0.685451</td>\n",
       "    </tr>\n",
       "    <tr>\n",
       "      <th>2</th>\n",
       "      <td>301</td>\n",
       "      <td>-0.685984</td>\n",
       "    </tr>\n",
       "    <tr>\n",
       "      <th>1</th>\n",
       "      <td>201</td>\n",
       "      <td>-0.687113</td>\n",
       "    </tr>\n",
       "    <tr>\n",
       "      <th>0</th>\n",
       "      <td>101</td>\n",
       "      <td>-0.690477</td>\n",
       "    </tr>\n",
       "  </tbody>\n",
       "</table>\n",
       "</div>"
      ],
      "text/plain": [
       "   n_neighbors  logloss_score\n",
       "4          501      -0.685106\n",
       "3          401      -0.685451\n",
       "2          301      -0.685984\n",
       "1          201      -0.687113\n",
       "0          101      -0.690477"
      ]
     },
     "execution_count": 198,
     "metadata": {},
     "output_type": "execute_result"
    }
   ],
   "source": [
    "pd.DataFrame({'n_neighbors':k, 'logloss_score':knn_cv}).sort_values(by=['logloss_score'],ascending=False)"
   ]
  },
  {
   "cell_type": "code",
   "execution_count": 199,
   "id": "b958bb0d",
   "metadata": {
    "scrolled": true
   },
   "outputs": [
    {
     "data": {
      "text/plain": [
       "Text(0.5, 1.0, 'Mean Validation score')"
      ]
     },
     "execution_count": 199,
     "metadata": {},
     "output_type": "execute_result"
    },
    {
     "data": {
      "image/png": "[encoded data removed]",
      "text/plain": [
       "<Figure size 864x432 with 1 Axes>"
      ]
     },
     "metadata": {
      "needs_background": "light"
     },
     "output_type": "display_data"
    }
   ],
   "source": [
    "plt.figure(figsize=(12,6))\n",
    "plt.plot(k,knn_cv)\n",
    "plt.xlabel('n_neighbors')\n",
    "plt.ylabel('Logloss Score')\n",
    "plt.title('Mean Validation score')"
   ]
  },
  {
   "cell_type": "markdown",
   "id": "3a4044e5",
   "metadata": {},
   "source": [
    "### Take k = 501 as optimal value"
   ]
  },
  {
   "cell_type": "code",
   "execution_count": 200,
   "id": "c399b305",
   "metadata": {},
   "outputs": [
    {
     "name": "stdout",
     "output_type": "stream",
     "text": [
      "[[18152    35]\n",
      " [13275    38]]\n",
      "F1 score on train data =0.9999195171026156\n",
      "F1 score on validation data =0.005677573584341851\n",
      "Log_loss on train data = 0.002349576625505127\n",
      "log_loss on validation data = 14.59400450165623\n",
      "              precision    recall  f1-score   support\n",
      "\n",
      "         0.0       0.58      1.00      0.73     18187\n",
      "         1.0       0.52      0.00      0.01     13313\n",
      "\n",
      "    accuracy                           0.58     31500\n",
      "   macro avg       0.55      0.50      0.37     31500\n",
      "weighted avg       0.55      0.58      0.42     31500\n",
      "\n"
     ]
    },
    {
     "data": {
      "image/png": "[encoded data removed]",
      "text/plain": [
       "<Figure size 432x288 with 2 Axes>"
      ]
     },
     "metadata": {
      "needs_background": "light"
     },
     "output_type": "display_data"
    }
   ],
   "source": [
    "model_KNN = KNC(n_neighbors=501,weights='distance',n_jobs=-1)\n",
    "\n",
    "y_train_prob_KNN,y_valid_prob_KNN,logloss_KNN,f1score_KNN = model_train_func(model_KNN)"
   ]
  },
  {
   "cell_type": "markdown",
   "id": "cda61c0d",
   "metadata": {},
   "source": [
    "## Model 3 : Support Vector Machine (SVM)"
   ]
  },
  {
   "cell_type": "code",
   "execution_count": 201,
   "id": "83319480",
   "metadata": {},
   "outputs": [],
   "source": [
    "from sklearn import svm"
   ]
  },
  {
   "cell_type": "code",
   "execution_count": 202,
   "id": "d438daca",
   "metadata": {},
   "outputs": [],
   "source": [
    "def Val_score_func(c_list):\n",
    "    avg_logloss_score = []\n",
    "    \n",
    "    for i in c_list:\n",
    "        logloss_score = cross_val_score(estimator=svm.SVC(C=i,kernel='rbf',class_weight='balanced',random_state=11,probability=True),\n",
    "                                  X=x_train, y=y_train, cv=kfold, scoring='neg_log_loss')\n",
    "        \n",
    "        # Adding mean logloss_score to avg list\n",
    "        avg_logloss_score.append(logloss_score.mean())\n",
    "        \n",
    "    return avg_logloss_score"
   ]
  },
  {
   "cell_type": "code",
   "execution_count": 203,
   "id": "d644e058",
   "metadata": {},
   "outputs": [],
   "source": [
    "c_list = [0.01,0.1,1,5]\n",
    "#svm_cv = Val_score_func(c_list)"
   ]
  },
  {
   "cell_type": "code",
   "execution_count": 204,
   "id": "63a6577c",
   "metadata": {},
   "outputs": [],
   "source": [
    "model_SVM = svm.SVC(C=1,kernel='rbf',class_weight='balanced',random_state=11,probability=True)\n",
    "\n",
    "#y_train_prob_SVM,y_valid_prob_SVM,logloss_SVM,f1score_SVM = model_train_func(model_SVM)"
   ]
  },
  {
   "cell_type": "markdown",
   "id": "52a55830",
   "metadata": {},
   "source": [
    "## Model 4 : Random Forest"
   ]
  },
  {
   "cell_type": "code",
   "execution_count": 205,
   "id": "dc972fb7",
   "metadata": {},
   "outputs": [],
   "source": [
    "from sklearn.ensemble import RandomForestClassifier as RFC\n",
    "from sklearn.model_selection import RandomizedSearchCV"
   ]
  },
  {
   "cell_type": "code",
   "execution_count": 206,
   "id": "f24d7f3e",
   "metadata": {},
   "outputs": [],
   "source": [
    "def Val_score_func(max_depth):\n",
    "    avg_logloss_score = []\n",
    "    \n",
    "    for i in max_depth:\n",
    "        logloss_score = cross_val_score(estimator=RFC(n_estimators=1000,max_depth=i,min_samples_split=12,min_samples_leaf=5,\n",
    "                                                  max_features='sqrt',n_jobs=-1,random_state=11,class_weight='balanced'),\n",
    "                                                      X=x_train, y=y_train, cv=kfold, scoring='neg_log_loss')\n",
    "        # Adding mean logloss_score to avg list\n",
    "        avg_logloss_score.append(logloss_score.mean())\n",
    "        \n",
    "    return avg_logloss_score"
   ]
  },
  {
   "cell_type": "code",
   "execution_count": 207,
   "id": "3f589c43",
   "metadata": {},
   "outputs": [],
   "source": [
    "depth = [5,10,15,20,25,30]\n",
    "#rfc_cv = Val_score_func(depth)"
   ]
  },
  {
   "cell_type": "code",
   "execution_count": 208,
   "id": "7ef6b476",
   "metadata": {},
   "outputs": [],
   "source": [
    "#pd.DataFrame({'max_depth':depth, 'logloss_score':rfc_cv}).sort_values(by=['logloss_score'],ascending=False)"
   ]
  },
  {
   "cell_type": "code",
   "execution_count": 209,
   "id": "a450ae67",
   "metadata": {},
   "outputs": [
    {
     "data": {
      "text/plain": [
       "\"plt.figure(figsize=(12,6))\\nplt.plot(depth,rfc_cv)\\nplt.xlabel('max_depth')\\nplt.ylabel('Logloss Score')\\nplt.title('Mean Validation score')\""
      ]
     },
     "execution_count": 209,
     "metadata": {},
     "output_type": "execute_result"
    }
   ],
   "source": [
    "\"\"\"plt.figure(figsize=(12,6))\n",
    "plt.plot(depth,rfc_cv)\n",
    "plt.xlabel('max_depth')\n",
    "plt.ylabel('Logloss Score')\n",
    "plt.title('Mean Validation score')\"\"\""
   ]
  },
  {
   "cell_type": "markdown",
   "id": "254b0df6",
   "metadata": {},
   "source": [
    "### Take max_Depth = 15 as optimal value"
   ]
  },
  {
   "cell_type": "code",
   "execution_count": 210,
   "id": "a07d4af4",
   "metadata": {},
   "outputs": [
    {
     "name": "stdout",
     "output_type": "stream",
     "text": [
      "[[11646  6541]\n",
      " [ 8469  4844]]\n",
      "F1 score on train data =0.8542641472520665\n",
      "F1 score on validation data =0.392258482468216\n",
      "Log_loss on train data = 4.200617400740678\n",
      "log_loss on validation data = 16.458167106488897\n",
      "              precision    recall  f1-score   support\n",
      "\n",
      "         0.0       0.58      0.64      0.61     18187\n",
      "         1.0       0.43      0.36      0.39     13313\n",
      "\n",
      "    accuracy                           0.52     31500\n",
      "   macro avg       0.50      0.50      0.50     31500\n",
      "weighted avg       0.51      0.52      0.52     31500\n",
      "\n"
     ]
    },
    {
     "data": {
      "image/png": "[encoded data removed]",
      "text/plain": [
       "<Figure size 432x288 with 2 Axes>"
      ]
     },
     "metadata": {
      "needs_background": "light"
     },
     "output_type": "display_data"
    }
   ],
   "source": [
    "model_RFC = RFC(n_estimators=1000,max_depth=15,min_samples_split=12,min_samples_leaf=5,\n",
    "                max_features='sqrt',n_jobs=-1,random_state=11,class_weight='balanced')\n",
    "\n",
    "y_train_prob_RFC,y_valid_prob_RFC,logloss_RFC,f1score_RFC = model_train_func(model_RFC)"
   ]
  },
  {
   "cell_type": "markdown",
   "id": "c34c51af",
   "metadata": {},
   "source": [
    "## Model 5 : XGBOOST Model"
   ]
  },
  {
   "cell_type": "code",
   "execution_count": 211,
   "id": "a633a348",
   "metadata": {},
   "outputs": [],
   "source": [
    "import xgboost as xgb"
   ]
  },
  {
   "cell_type": "code",
   "execution_count": 212,
   "id": "ceb7f850",
   "metadata": {},
   "outputs": [],
   "source": [
    "def Val_score_func(max_depth):\n",
    "    avg_logloss_score = []\n",
    "    \n",
    "    for i in max_depth:\n",
    "        logloss_score = cross_val_score(estimator=xgb.XGBClassifier(n_estimators=200,max_depth=i,n_jobs=-1,subsample=0.9),\n",
    "                                        X=x_train, y=y_train, cv=kfold, scoring='neg_log_loss')\n",
    "        # Adding mean logloss_score to avg list\n",
    "        avg_logloss_score.append(logloss_score.mean())\n",
    "        \n",
    "    return avg_logloss_score"
   ]
  },
  {
   "cell_type": "code",
   "execution_count": 213,
   "id": "f7b695d3",
   "metadata": {},
   "outputs": [],
   "source": [
    "depth = [1,3,5,7,9]\n",
    "#xgb_cv = Val_score_func(depth)"
   ]
  },
  {
   "cell_type": "code",
   "execution_count": 214,
   "id": "405a05ff",
   "metadata": {},
   "outputs": [],
   "source": [
    "#pd.DataFrame({'max_depth':depth, 'logloss_score':xgb_cv}).sort_values(by=['logloss_score'],ascending=False)"
   ]
  },
  {
   "cell_type": "code",
   "execution_count": 215,
   "id": "f9b62333",
   "metadata": {},
   "outputs": [
    {
     "data": {
      "text/plain": [
       "\"plt.figure(figsize=(12,6))\\nplt.plot(depth,xgb_cv)\\nplt.xlabel('max_depth')\\nplt.ylabel('Logloss Score')\\nplt.title('Mean Validation score')\""
      ]
     },
     "execution_count": 215,
     "metadata": {},
     "output_type": "execute_result"
    }
   ],
   "source": [
    "\"\"\"plt.figure(figsize=(12,6))\n",
    "plt.plot(depth,xgb_cv)\n",
    "plt.xlabel('max_depth')\n",
    "plt.ylabel('Logloss Score')\n",
    "plt.title('Mean Validation score')\"\"\""
   ]
  },
  {
   "cell_type": "markdown",
   "id": "500fb50f",
   "metadata": {},
   "source": [
    "### Take max_depth=1 as optimal value"
   ]
  },
  {
   "cell_type": "code",
   "execution_count": 216,
   "id": "e0dd8e19",
   "metadata": {},
   "outputs": [
    {
     "name": "stdout",
     "output_type": "stream",
     "text": [
      "[[18170    17]\n",
      " [13301    12]]\n",
      "F1 score on train data =0.0018644122279726128\n",
      "F1 score on validation data =0.0017988307600059962\n",
      "Log_loss on train data = 14.591340922888888\n",
      "log_loss on validation data = 14.60277579747863\n",
      "              precision    recall  f1-score   support\n",
      "\n",
      "         0.0       0.58      1.00      0.73     18187\n",
      "         1.0       0.41      0.00      0.00     13313\n",
      "\n",
      "    accuracy                           0.58     31500\n",
      "   macro avg       0.50      0.50      0.37     31500\n",
      "weighted avg       0.51      0.58      0.42     31500\n",
      "\n"
     ]
    },
    {
     "data": {
      "image/png": "[encoded data removed]",
      "text/plain": [
       "<Figure size 432x288 with 2 Axes>"
      ]
     },
     "metadata": {
      "needs_background": "light"
     },
     "output_type": "display_data"
    }
   ],
   "source": [
    "model_XGB = xgb.XGBClassifier(n_estimators=200,max_depth=1,n_jobs=-1,subsample=0.9)\n",
    "\n",
    "y_train_prob_XGB,y_valid_prob_XGB,logloss_XGB,f1score_XGB = model_train_func(model_XGB)"
   ]
  },
  {
   "cell_type": "markdown",
   "id": "98bd4b0c",
   "metadata": {},
   "source": [
    "## Model Performance Comparision"
   ]
  },
  {
   "cell_type": "code",
   "execution_count": 217,
   "id": "f1a3e852",
   "metadata": {},
   "outputs": [
    {
     "data": {
      "text/html": [
       "<div>\n",
       "<style scoped>\n",
       "    .dataframe tbody tr th:only-of-type {\n",
       "        vertical-align: middle;\n",
       "    }\n",
       "\n",
       "    .dataframe tbody tr th {\n",
       "        vertical-align: top;\n",
       "    }\n",
       "\n",
       "    .dataframe thead th {\n",
       "        text-align: right;\n",
       "    }\n",
       "</style>\n",
       "<table border=\"1\" class=\"dataframe\">\n",
       "  <thead>\n",
       "    <tr style=\"text-align: right;\">\n",
       "      <th></th>\n",
       "      <th>Model</th>\n",
       "      <th>Log_loss</th>\n",
       "      <th>F1_score</th>\n",
       "    </tr>\n",
       "  </thead>\n",
       "  <tbody>\n",
       "    <tr>\n",
       "      <th>4</th>\n",
       "      <td>XGBoost</td>\n",
       "      <td>14.602776</td>\n",
       "      <td>0.001799</td>\n",
       "    </tr>\n",
       "    <tr>\n",
       "      <th>1</th>\n",
       "      <td>KNN</td>\n",
       "      <td>14.594005</td>\n",
       "      <td>0.005678</td>\n",
       "    </tr>\n",
       "    <tr>\n",
       "      <th>3</th>\n",
       "      <td>Random Forest</td>\n",
       "      <td>16.458167</td>\n",
       "      <td>0.392258</td>\n",
       "    </tr>\n",
       "    <tr>\n",
       "      <th>0</th>\n",
       "      <td>Logistic Regression</td>\n",
       "      <td>16.931899</td>\n",
       "      <td>0.463968</td>\n",
       "    </tr>\n",
       "    <tr>\n",
       "      <th>2</th>\n",
       "      <td>Support Vector Machine</td>\n",
       "      <td>NaN</td>\n",
       "      <td>NaN</td>\n",
       "    </tr>\n",
       "  </tbody>\n",
       "</table>\n",
       "</div>"
      ],
      "text/plain": [
       "                    Model   Log_loss  F1_score\n",
       "4                 XGBoost  14.602776  0.001799\n",
       "1                     KNN  14.594005  0.005678\n",
       "3           Random Forest  16.458167  0.392258\n",
       "0     Logistic Regression  16.931899  0.463968\n",
       "2  Support Vector Machine        NaN       NaN"
      ]
     },
     "execution_count": 217,
     "metadata": {},
     "output_type": "execute_result"
    }
   ],
   "source": [
    "model=['Logistic Regression','KNN','Support Vector Machine','Random Forest','XGBoost']\n",
    "f_score=[f1score_logreg,f1score_KNN,np.nan,f1score_RFC,f1score_XGB]\n",
    "log_loss_error = [logloss_logreg,logloss_KNN,np.nan,logloss_RFC,logloss_XGB]\n",
    "\n",
    "model_df=pd.DataFrame({\"Model\":model,\"Log_loss\":log_loss_error,\"F1_score\":f_score})\n",
    "model_df.sort_values(by=[\"F1_score\"],ascending=True)"
   ]
  },
  {
   "cell_type": "markdown",
   "id": "9435b04b",
   "metadata": {},
   "source": [
    "## Model Pipeline (Test Data)"
   ]
  },
  {
   "cell_type": "code",
   "execution_count": 218,
   "id": "b907d392",
   "metadata": {
    "scrolled": true
   },
   "outputs": [
    {
     "data": {
      "text/html": [
       "<div>\n",
       "<style scoped>\n",
       "    .dataframe tbody tr th:only-of-type {\n",
       "        vertical-align: middle;\n",
       "    }\n",
       "\n",
       "    .dataframe tbody tr th {\n",
       "        vertical-align: top;\n",
       "    }\n",
       "\n",
       "    .dataframe thead th {\n",
       "        text-align: right;\n",
       "    }\n",
       "</style>\n",
       "<table border=\"1\" class=\"dataframe\">\n",
       "  <thead>\n",
       "    <tr style=\"text-align: right;\">\n",
       "      <th></th>\n",
       "      <th>ID</th>\n",
       "      <th>AGE</th>\n",
       "      <th>GENDER</th>\n",
       "      <th>DRIVING_EXPERIENCE</th>\n",
       "      <th>EDUCATION</th>\n",
       "      <th>INCOME</th>\n",
       "      <th>CREDIT_SCORE</th>\n",
       "      <th>VEHICLE_OWNERSHIP</th>\n",
       "      <th>VEHICLE_YEAR</th>\n",
       "      <th>MARRIED</th>\n",
       "      <th>CHILDREN</th>\n",
       "      <th>POSTAL_CODE</th>\n",
       "      <th>ANNUAL_MILEAGE</th>\n",
       "      <th>SPEEDING_VIOLATIONS</th>\n",
       "      <th>DUIS</th>\n",
       "      <th>PAST_ACCIDENTS</th>\n",
       "      <th>TYPE_OF_VEHICLE</th>\n",
       "    </tr>\n",
       "  </thead>\n",
       "  <tbody>\n",
       "    <tr>\n",
       "      <th>0</th>\n",
       "      <td>352928</td>\n",
       "      <td>40-64</td>\n",
       "      <td>male</td>\n",
       "      <td>10-19y</td>\n",
       "      <td>none</td>\n",
       "      <td>working class</td>\n",
       "      <td>0.814707</td>\n",
       "      <td>1.0</td>\n",
       "      <td>after 2015</td>\n",
       "      <td>0.0</td>\n",
       "      <td>1.0</td>\n",
       "      <td>10238</td>\n",
       "      <td>10000.0</td>\n",
       "      <td>0</td>\n",
       "      <td>0</td>\n",
       "      <td>0</td>\n",
       "      <td>HatchBack</td>\n",
       "    </tr>\n",
       "    <tr>\n",
       "      <th>1</th>\n",
       "      <td>38579</td>\n",
       "      <td>26-39</td>\n",
       "      <td>female</td>\n",
       "      <td>20-29y</td>\n",
       "      <td>high school</td>\n",
       "      <td>upper class</td>\n",
       "      <td>0.344051</td>\n",
       "      <td>1.0</td>\n",
       "      <td>before 2015</td>\n",
       "      <td>0.0</td>\n",
       "      <td>0.0</td>\n",
       "      <td>34073</td>\n",
       "      <td>13000.0</td>\n",
       "      <td>0</td>\n",
       "      <td>0</td>\n",
       "      <td>0</td>\n",
       "      <td>Sedan</td>\n",
       "    </tr>\n",
       "    <tr>\n",
       "      <th>2</th>\n",
       "      <td>504022</td>\n",
       "      <td>40-64</td>\n",
       "      <td>male</td>\n",
       "      <td>10-19y</td>\n",
       "      <td>none</td>\n",
       "      <td>upper class</td>\n",
       "      <td>0.620691</td>\n",
       "      <td>0.0</td>\n",
       "      <td>after 2015</td>\n",
       "      <td>1.0</td>\n",
       "      <td>0.0</td>\n",
       "      <td>10238</td>\n",
       "      <td>12000.0</td>\n",
       "      <td>0</td>\n",
       "      <td>0</td>\n",
       "      <td>0</td>\n",
       "      <td>SUV</td>\n",
       "    </tr>\n",
       "    <tr>\n",
       "      <th>3</th>\n",
       "      <td>202404</td>\n",
       "      <td>26-39</td>\n",
       "      <td>male</td>\n",
       "      <td>20-29y</td>\n",
       "      <td>high school</td>\n",
       "      <td>upper class</td>\n",
       "      <td>0.689658</td>\n",
       "      <td>1.0</td>\n",
       "      <td>after 2015</td>\n",
       "      <td>1.0</td>\n",
       "      <td>1.0</td>\n",
       "      <td>10238</td>\n",
       "      <td>16000.0</td>\n",
       "      <td>1</td>\n",
       "      <td>0</td>\n",
       "      <td>0</td>\n",
       "      <td>SUV</td>\n",
       "    </tr>\n",
       "    <tr>\n",
       "      <th>4</th>\n",
       "      <td>527913</td>\n",
       "      <td>65+</td>\n",
       "      <td>male</td>\n",
       "      <td>10-19y</td>\n",
       "      <td>none</td>\n",
       "      <td>middle class</td>\n",
       "      <td>0.755666</td>\n",
       "      <td>0.0</td>\n",
       "      <td>after 2015</td>\n",
       "      <td>0.0</td>\n",
       "      <td>1.0</td>\n",
       "      <td>92101</td>\n",
       "      <td>14000.0</td>\n",
       "      <td>2</td>\n",
       "      <td>0</td>\n",
       "      <td>0</td>\n",
       "      <td>HatchBack</td>\n",
       "    </tr>\n",
       "    <tr>\n",
       "      <th>...</th>\n",
       "      <td>...</td>\n",
       "      <td>...</td>\n",
       "      <td>...</td>\n",
       "      <td>...</td>\n",
       "      <td>...</td>\n",
       "      <td>...</td>\n",
       "      <td>...</td>\n",
       "      <td>...</td>\n",
       "      <td>...</td>\n",
       "      <td>...</td>\n",
       "      <td>...</td>\n",
       "      <td>...</td>\n",
       "      <td>...</td>\n",
       "      <td>...</td>\n",
       "      <td>...</td>\n",
       "      <td>...</td>\n",
       "      <td>...</td>\n",
       "    </tr>\n",
       "    <tr>\n",
       "      <th>44995</th>\n",
       "      <td>117683</td>\n",
       "      <td>65+</td>\n",
       "      <td>female</td>\n",
       "      <td>20-29y</td>\n",
       "      <td>high school</td>\n",
       "      <td>poverty</td>\n",
       "      <td>0.472022</td>\n",
       "      <td>1.0</td>\n",
       "      <td>before 2015</td>\n",
       "      <td>1.0</td>\n",
       "      <td>0.0</td>\n",
       "      <td>10238</td>\n",
       "      <td>10000.0</td>\n",
       "      <td>0</td>\n",
       "      <td>0</td>\n",
       "      <td>1</td>\n",
       "      <td>Sports Car</td>\n",
       "    </tr>\n",
       "    <tr>\n",
       "      <th>44996</th>\n",
       "      <td>619620</td>\n",
       "      <td>40-64</td>\n",
       "      <td>male</td>\n",
       "      <td>20-29y</td>\n",
       "      <td>university</td>\n",
       "      <td>working class</td>\n",
       "      <td>0.757312</td>\n",
       "      <td>0.0</td>\n",
       "      <td>before 2015</td>\n",
       "      <td>1.0</td>\n",
       "      <td>0.0</td>\n",
       "      <td>10238</td>\n",
       "      <td>12000.0</td>\n",
       "      <td>0</td>\n",
       "      <td>0</td>\n",
       "      <td>0</td>\n",
       "      <td>Sports Car</td>\n",
       "    </tr>\n",
       "    <tr>\n",
       "      <th>44997</th>\n",
       "      <td>11086</td>\n",
       "      <td>40-64</td>\n",
       "      <td>male</td>\n",
       "      <td>10-19y</td>\n",
       "      <td>none</td>\n",
       "      <td>poverty</td>\n",
       "      <td>0.566764</td>\n",
       "      <td>0.0</td>\n",
       "      <td>after 2015</td>\n",
       "      <td>0.0</td>\n",
       "      <td>0.0</td>\n",
       "      <td>10238</td>\n",
       "      <td>13000.0</td>\n",
       "      <td>0</td>\n",
       "      <td>0</td>\n",
       "      <td>0</td>\n",
       "      <td>Sedan</td>\n",
       "    </tr>\n",
       "    <tr>\n",
       "      <th>44998</th>\n",
       "      <td>31717</td>\n",
       "      <td>65+</td>\n",
       "      <td>male</td>\n",
       "      <td>30y+</td>\n",
       "      <td>high school</td>\n",
       "      <td>upper class</td>\n",
       "      <td>0.741850</td>\n",
       "      <td>1.0</td>\n",
       "      <td>before 2015</td>\n",
       "      <td>1.0</td>\n",
       "      <td>0.0</td>\n",
       "      <td>92101</td>\n",
       "      <td>13000.0</td>\n",
       "      <td>1</td>\n",
       "      <td>0</td>\n",
       "      <td>0</td>\n",
       "      <td>Sports Car</td>\n",
       "    </tr>\n",
       "    <tr>\n",
       "      <th>44999</th>\n",
       "      <td>26945</td>\n",
       "      <td>65+</td>\n",
       "      <td>female</td>\n",
       "      <td>10-19y</td>\n",
       "      <td>high school</td>\n",
       "      <td>upper class</td>\n",
       "      <td>0.705271</td>\n",
       "      <td>1.0</td>\n",
       "      <td>after 2015</td>\n",
       "      <td>1.0</td>\n",
       "      <td>1.0</td>\n",
       "      <td>10238</td>\n",
       "      <td>8000.0</td>\n",
       "      <td>1</td>\n",
       "      <td>0</td>\n",
       "      <td>1</td>\n",
       "      <td>Sports Car</td>\n",
       "    </tr>\n",
       "  </tbody>\n",
       "</table>\n",
       "<p>45000 rows × 17 columns</p>\n",
       "</div>"
      ],
      "text/plain": [
       "           ID    AGE  GENDER DRIVING_EXPERIENCE    EDUCATION         INCOME  \\\n",
       "0      352928  40-64    male             10-19y         none  working class   \n",
       "1       38579  26-39  female             20-29y  high school    upper class   \n",
       "2      504022  40-64    male             10-19y         none    upper class   \n",
       "3      202404  26-39    male             20-29y  high school    upper class   \n",
       "4      527913    65+    male             10-19y         none   middle class   \n",
       "...       ...    ...     ...                ...          ...            ...   \n",
       "44995  117683    65+  female             20-29y  high school        poverty   \n",
       "44996  619620  40-64    male             20-29y   university  working class   \n",
       "44997   11086  40-64    male             10-19y         none        poverty   \n",
       "44998   31717    65+    male               30y+  high school    upper class   \n",
       "44999   26945    65+  female             10-19y  high school    upper class   \n",
       "\n",
       "       CREDIT_SCORE  VEHICLE_OWNERSHIP VEHICLE_YEAR  MARRIED  CHILDREN  \\\n",
       "0          0.814707                1.0   after 2015      0.0       1.0   \n",
       "1          0.344051                1.0  before 2015      0.0       0.0   \n",
       "2          0.620691                0.0   after 2015      1.0       0.0   \n",
       "3          0.689658                1.0   after 2015      1.0       1.0   \n",
       "4          0.755666                0.0   after 2015      0.0       1.0   \n",
       "...             ...                ...          ...      ...       ...   \n",
       "44995      0.472022                1.0  before 2015      1.0       0.0   \n",
       "44996      0.757312                0.0  before 2015      1.0       0.0   \n",
       "44997      0.566764                0.0   after 2015      0.0       0.0   \n",
       "44998      0.741850                1.0  before 2015      1.0       0.0   \n",
       "44999      0.705271                1.0   after 2015      1.0       1.0   \n",
       "\n",
       "       POSTAL_CODE  ANNUAL_MILEAGE  SPEEDING_VIOLATIONS  DUIS  PAST_ACCIDENTS  \\\n",
       "0            10238         10000.0                    0     0               0   \n",
       "1            34073         13000.0                    0     0               0   \n",
       "2            10238         12000.0                    0     0               0   \n",
       "3            10238         16000.0                    1     0               0   \n",
       "4            92101         14000.0                    2     0               0   \n",
       "...            ...             ...                  ...   ...             ...   \n",
       "44995        10238         10000.0                    0     0               1   \n",
       "44996        10238         12000.0                    0     0               0   \n",
       "44997        10238         13000.0                    0     0               0   \n",
       "44998        92101         13000.0                    1     0               0   \n",
       "44999        10238          8000.0                    1     0               1   \n",
       "\n",
       "      TYPE_OF_VEHICLE  \n",
       "0           HatchBack  \n",
       "1               Sedan  \n",
       "2                 SUV  \n",
       "3                 SUV  \n",
       "4           HatchBack  \n",
       "...               ...  \n",
       "44995      Sports Car  \n",
       "44996      Sports Car  \n",
       "44997           Sedan  \n",
       "44998      Sports Car  \n",
       "44999      Sports Car  \n",
       "\n",
       "[45000 rows x 17 columns]"
      ]
     },
     "execution_count": 218,
     "metadata": {},
     "output_type": "execute_result"
    }
   ],
   "source": [
    "df_test"
   ]
  },
  {
   "cell_type": "code",
   "execution_count": 219,
   "id": "ce9f7c58",
   "metadata": {},
   "outputs": [
    {
     "name": "stdout",
     "output_type": "stream",
     "text": [
      "<class 'pandas.core.frame.DataFrame'>\n",
      "RangeIndex: 45000 entries, 0 to 44999\n",
      "Data columns (total 17 columns):\n",
      " #   Column               Non-Null Count  Dtype  \n",
      "---  ------               --------------  -----  \n",
      " 0   ID                   45000 non-null  int64  \n",
      " 1   AGE                  45000 non-null  object \n",
      " 2   GENDER               45000 non-null  object \n",
      " 3   DRIVING_EXPERIENCE   45000 non-null  object \n",
      " 4   EDUCATION            45000 non-null  object \n",
      " 5   INCOME               45000 non-null  object \n",
      " 6   CREDIT_SCORE         45000 non-null  float64\n",
      " 7   VEHICLE_OWNERSHIP    45000 non-null  float64\n",
      " 8   VEHICLE_YEAR         45000 non-null  object \n",
      " 9   MARRIED              45000 non-null  float64\n",
      " 10  CHILDREN             45000 non-null  float64\n",
      " 11  POSTAL_CODE          45000 non-null  int64  \n",
      " 12  ANNUAL_MILEAGE       45000 non-null  float64\n",
      " 13  SPEEDING_VIOLATIONS  45000 non-null  int64  \n",
      " 14  DUIS                 45000 non-null  int64  \n",
      " 15  PAST_ACCIDENTS       45000 non-null  int64  \n",
      " 16  TYPE_OF_VEHICLE      45000 non-null  object \n",
      "dtypes: float64(5), int64(5), object(7)\n",
      "memory usage: 5.8+ MB\n"
     ]
    }
   ],
   "source": [
    "df_test.info()"
   ]
  },
  {
   "cell_type": "code",
   "execution_count": 220,
   "id": "421c02f0",
   "metadata": {},
   "outputs": [],
   "source": [
    "# Change datatype to category\n",
    "df_test[\"MARRIED\"] = df_test[\"MARRIED\"].astype('category')\n",
    "df_test[\"CHILDREN\"] = df_test[\"CHILDREN\"].astype('category')\n",
    "df_test[\"VEHICLE_OWNERSHIP\"] = df_test[\"VEHICLE_OWNERSHIP\"].astype('category')"
   ]
  },
  {
   "cell_type": "code",
   "execution_count": 221,
   "id": "f6a506ed",
   "metadata": {},
   "outputs": [
    {
     "data": {
      "text/plain": [
       "ID                     0\n",
       "AGE                    0\n",
       "GENDER                 0\n",
       "DRIVING_EXPERIENCE     0\n",
       "EDUCATION              0\n",
       "INCOME                 0\n",
       "CREDIT_SCORE           0\n",
       "VEHICLE_OWNERSHIP      0\n",
       "VEHICLE_YEAR           0\n",
       "MARRIED                0\n",
       "CHILDREN               0\n",
       "POSTAL_CODE            0\n",
       "ANNUAL_MILEAGE         0\n",
       "SPEEDING_VIOLATIONS    0\n",
       "DUIS                   0\n",
       "PAST_ACCIDENTS         0\n",
       "TYPE_OF_VEHICLE        0\n",
       "dtype: int64"
      ]
     },
     "execution_count": 221,
     "metadata": {},
     "output_type": "execute_result"
    }
   ],
   "source": [
    "## Null values\n",
    "df_test.isnull().sum()"
   ]
  },
  {
   "cell_type": "code",
   "execution_count": 222,
   "id": "c68f73c4",
   "metadata": {},
   "outputs": [],
   "source": [
    "def model_pipline_func(df):\n",
    "    ## Right skewed feature transformation\n",
    "    df[\"POSTAL_CODE\"] = np.log(df[\"POSTAL_CODE\"]+1)\n",
    "    df[\"SPEEDING_VIOLATIONS\"] = np.sqrt(df[\"SPEEDING_VIOLATIONS\"])\n",
    "    df[\"DUIS\"] = np.sqrt(df[\"SPEEDING_VIOLATIONS\"])\n",
    "    df[\"PAST_ACCIDENTS\"] = np.sqrt(df[\"PAST_ACCIDENTS\"])\n",
    "    \n",
    "    ## Left skewed feature transformation\n",
    "    df[\"ANNUAL_MILEAGE\"] = stats.boxcox(df[\"ANNUAL_MILEAGE\"])[0]\n",
    "    \n",
    "    ## Label Encoding\n",
    "    df[\"AGE\"] = df[\"AGE\"].map({'16-25':0,'26-39':1,'40-64':2,'65+':3})\n",
    "    df[\"INCOME\"] = df[\"INCOME\"].map({'poverty':0,'middle class':1,'working class':2,'upper class':3})\n",
    "    df[\"EDUCATION\"] = df[\"EDUCATION\"].map({'none':0,'high school':1,'university':2})\n",
    "    df[\"DRIVING_EXPERIENCE\"] = df[\"DRIVING_EXPERIENCE\"].map({'0-9y':0,'10-19y':1,'20-29y':2,'30y+':3})\n",
    "    \n",
    "    ## Fequency Encoding\n",
    "    pc_dict = df[\"POSTAL_CODE\"].value_counts(normalize=True).to_dict()\n",
    "    df[\"POSTAL_CODE\"] = df[\"POSTAL_CODE\"].map(pc_dict)\n",
    "    \n",
    "    ## One hot encoding\n",
    "    df_final = pd.get_dummies(data=df,columns=['GENDER','VEHICLE_YEAR','TYPE_OF_VEHICLE'],drop_first=True)\n",
    "    \n",
    "    ## Drop ID column\n",
    "    df_final.drop(columns=['ID','POSTAL_CODE'],axis=1,inplace=True)\n",
    "    \n",
    "    ## Standardization\n",
    "    df_final = scaler.transform(df_final)\n",
    "    \n",
    "    return df_final"
   ]
  },
  {
   "cell_type": "code",
   "execution_count": 223,
   "id": "553a37aa",
   "metadata": {},
   "outputs": [],
   "source": [
    "x_test = model_pipline_func(df_test)"
   ]
  },
  {
   "cell_type": "code",
   "execution_count": 224,
   "id": "23e1edf7",
   "metadata": {},
   "outputs": [
    {
     "data": {
      "text/plain": [
       "array([[ 0.21034141, -0.22028604, -1.39444223, ..., -0.44339675,\n",
       "        -0.60719815, -0.70014799],\n",
       "       [-0.72239424,  0.79026346, -0.05104894, ..., -0.44339675,\n",
       "         1.64690883, -0.70014799],\n",
       "       [ 0.21034141, -0.22028604, -1.39444223, ...,  2.25531649,\n",
       "        -0.60719815, -0.70014799],\n",
       "       ...,\n",
       "       [ 0.21034141, -0.22028604, -1.39444223, ..., -0.44339675,\n",
       "         1.64690883, -0.70014799],\n",
       "       [ 1.14307705,  1.80081297, -0.05104894, ..., -0.44339675,\n",
       "        -0.60719815,  1.42826947],\n",
       "       [ 1.14307705, -0.22028604, -0.05104894, ..., -0.44339675,\n",
       "        -0.60719815,  1.42826947]])"
      ]
     },
     "execution_count": 224,
     "metadata": {},
     "output_type": "execute_result"
    }
   ],
   "source": [
    "x_test"
   ]
  },
  {
   "cell_type": "code",
   "execution_count": 225,
   "id": "fb36fba3",
   "metadata": {},
   "outputs": [
    {
     "data": {
      "text/plain": [
       "(45000, 17)"
      ]
     },
     "execution_count": 225,
     "metadata": {},
     "output_type": "execute_result"
    }
   ],
   "source": [
    "x_test.shape"
   ]
  },
  {
   "cell_type": "markdown",
   "id": "af74178c",
   "metadata": {},
   "source": [
    "## Model Prediction"
   ]
  },
  {
   "cell_type": "code",
   "execution_count": 226,
   "id": "d12920a5",
   "metadata": {},
   "outputs": [],
   "source": [
    "y_test_predict_logreg = model_logreg.predict(x_test)\n",
    "y_test_predict_KNN = model_KNN.predict(x_test)\n",
    "y_test_predict_RFC = model_RFC.predict(x_test)\n",
    "y_test_predict_XGB = model_XGB.predict(x_test)"
   ]
  },
  {
   "cell_type": "code",
   "execution_count": 227,
   "id": "ddf2e6f0",
   "metadata": {},
   "outputs": [
    {
     "data": {
      "text/plain": [
       "array([0, 0, 0, ..., 0, 0, 0])"
      ]
     },
     "execution_count": 227,
     "metadata": {},
     "output_type": "execute_result"
    }
   ],
   "source": [
    "y_test_predict_XGB"
   ]
  },
  {
   "cell_type": "code",
   "execution_count": 228,
   "id": "49678d36",
   "metadata": {},
   "outputs": [
    {
     "data": {
      "text/html": [
       "<div>\n",
       "<style scoped>\n",
       "    .dataframe tbody tr th:only-of-type {\n",
       "        vertical-align: middle;\n",
       "    }\n",
       "\n",
       "    .dataframe tbody tr th {\n",
       "        vertical-align: top;\n",
       "    }\n",
       "\n",
       "    .dataframe thead th {\n",
       "        text-align: right;\n",
       "    }\n",
       "</style>\n",
       "<table border=\"1\" class=\"dataframe\">\n",
       "  <thead>\n",
       "    <tr style=\"text-align: right;\">\n",
       "      <th></th>\n",
       "      <th>Logistic</th>\n",
       "      <th>KNN</th>\n",
       "      <th>RFC</th>\n",
       "      <th>XGB</th>\n",
       "    </tr>\n",
       "  </thead>\n",
       "  <tbody>\n",
       "    <tr>\n",
       "      <th>0</th>\n",
       "      <td>1.0</td>\n",
       "      <td>0.0</td>\n",
       "      <td>0.0</td>\n",
       "      <td>0</td>\n",
       "    </tr>\n",
       "    <tr>\n",
       "      <th>1</th>\n",
       "      <td>1.0</td>\n",
       "      <td>0.0</td>\n",
       "      <td>0.0</td>\n",
       "      <td>0</td>\n",
       "    </tr>\n",
       "    <tr>\n",
       "      <th>2</th>\n",
       "      <td>0.0</td>\n",
       "      <td>0.0</td>\n",
       "      <td>0.0</td>\n",
       "      <td>0</td>\n",
       "    </tr>\n",
       "    <tr>\n",
       "      <th>3</th>\n",
       "      <td>0.0</td>\n",
       "      <td>0.0</td>\n",
       "      <td>0.0</td>\n",
       "      <td>0</td>\n",
       "    </tr>\n",
       "    <tr>\n",
       "      <th>4</th>\n",
       "      <td>1.0</td>\n",
       "      <td>0.0</td>\n",
       "      <td>0.0</td>\n",
       "      <td>0</td>\n",
       "    </tr>\n",
       "    <tr>\n",
       "      <th>...</th>\n",
       "      <td>...</td>\n",
       "      <td>...</td>\n",
       "      <td>...</td>\n",
       "      <td>...</td>\n",
       "    </tr>\n",
       "    <tr>\n",
       "      <th>44995</th>\n",
       "      <td>1.0</td>\n",
       "      <td>0.0</td>\n",
       "      <td>1.0</td>\n",
       "      <td>0</td>\n",
       "    </tr>\n",
       "    <tr>\n",
       "      <th>44996</th>\n",
       "      <td>0.0</td>\n",
       "      <td>0.0</td>\n",
       "      <td>0.0</td>\n",
       "      <td>0</td>\n",
       "    </tr>\n",
       "    <tr>\n",
       "      <th>44997</th>\n",
       "      <td>1.0</td>\n",
       "      <td>0.0</td>\n",
       "      <td>0.0</td>\n",
       "      <td>0</td>\n",
       "    </tr>\n",
       "    <tr>\n",
       "      <th>44998</th>\n",
       "      <td>1.0</td>\n",
       "      <td>0.0</td>\n",
       "      <td>0.0</td>\n",
       "      <td>0</td>\n",
       "    </tr>\n",
       "    <tr>\n",
       "      <th>44999</th>\n",
       "      <td>1.0</td>\n",
       "      <td>0.0</td>\n",
       "      <td>0.0</td>\n",
       "      <td>0</td>\n",
       "    </tr>\n",
       "  </tbody>\n",
       "</table>\n",
       "<p>45000 rows × 4 columns</p>\n",
       "</div>"
      ],
      "text/plain": [
       "       Logistic  KNN  RFC  XGB\n",
       "0           1.0  0.0  0.0    0\n",
       "1           1.0  0.0  0.0    0\n",
       "2           0.0  0.0  0.0    0\n",
       "3           0.0  0.0  0.0    0\n",
       "4           1.0  0.0  0.0    0\n",
       "...         ...  ...  ...  ...\n",
       "44995       1.0  0.0  1.0    0\n",
       "44996       0.0  0.0  0.0    0\n",
       "44997       1.0  0.0  0.0    0\n",
       "44998       1.0  0.0  0.0    0\n",
       "44999       1.0  0.0  0.0    0\n",
       "\n",
       "[45000 rows x 4 columns]"
      ]
     },
     "execution_count": 228,
     "metadata": {},
     "output_type": "execute_result"
    }
   ],
   "source": [
    "df_prediction = pd.DataFrame({'Logistic':y_test_predict_logreg,'KNN':y_test_predict_KNN,'RFC':y_test_predict_RFC,\n",
    "                              'XGB':y_test_predict_XGB})\n",
    "df_prediction"
   ]
  },
  {
   "cell_type": "code",
   "execution_count": 229,
   "id": "dc902b50",
   "metadata": {},
   "outputs": [
    {
     "data": {
      "text/plain": [
       "0    44964\n",
       "1       36\n",
       "Name: XGB, dtype: int64"
      ]
     },
     "execution_count": 229,
     "metadata": {},
     "output_type": "execute_result"
    }
   ],
   "source": [
    "df_prediction['XGB'].value_counts()"
   ]
  },
  {
   "cell_type": "code",
   "execution_count": 230,
   "id": "81711d49",
   "metadata": {},
   "outputs": [
    {
     "data": {
      "text/plain": [
       "0.0    28648\n",
       "1.0    16352\n",
       "Name: RFC, dtype: int64"
      ]
     },
     "execution_count": 230,
     "metadata": {},
     "output_type": "execute_result"
    }
   ],
   "source": [
    "df_prediction['RFC'].value_counts()"
   ]
  },
  {
   "cell_type": "code",
   "execution_count": 231,
   "id": "68b5459e",
   "metadata": {},
   "outputs": [
    {
     "data": {
      "text/plain": [
       "0.0    44977\n",
       "1.0       23\n",
       "Name: KNN, dtype: int64"
      ]
     },
     "execution_count": 231,
     "metadata": {},
     "output_type": "execute_result"
    }
   ],
   "source": [
    "df_prediction['KNN'].value_counts()"
   ]
  },
  {
   "cell_type": "code",
   "execution_count": 232,
   "id": "3bb7d6fa",
   "metadata": {},
   "outputs": [
    {
     "data": {
      "text/plain": [
       "0.0    22716\n",
       "1.0    22284\n",
       "Name: Logistic, dtype: int64"
      ]
     },
     "execution_count": 232,
     "metadata": {},
     "output_type": "execute_result"
    }
   ],
   "source": [
    "df_prediction['Logistic'].value_counts()"
   ]
  },
  {
   "cell_type": "code",
   "execution_count": 233,
   "id": "6fc44728",
   "metadata": {},
   "outputs": [],
   "source": [
    "# Prediction based on xgboost model\n",
    "submission_XGB = pd.DataFrame({\"OUTCOME\":y_test_predict_XGB})\n",
    "# Prediction based on Random Forest model\n",
    "submission_RFC = pd.DataFrame({\"OUTCOME\":y_test_predict_RFC})"
   ]
  },
  {
   "cell_type": "code",
   "execution_count": 234,
   "id": "3d323c63",
   "metadata": {},
   "outputs": [],
   "source": [
    "submission_XGB.to_csv(r\"C:\\Users\\Shree\\Desktop\\DS Projects\\Analytics Olymipad\\Submission\\submission_xgb.csv\")\n",
    "submission_RFC.to_csv(r\"C:\\Users\\Shree\\Desktop\\DS Projects\\Analytics Olymipad\\Submission\\submission_rfc.csv\")"
   ]
  },
  {
   "cell_type": "code",
   "execution_count": 235,
   "id": "fbdd8081",
   "metadata": {},
   "outputs": [
    {
     "data": {
      "text/plain": [
       "(45000, 1)"
      ]
     },
     "execution_count": 235,
     "metadata": {},
     "output_type": "execute_result"
    }
   ],
   "source": [
    "submission_RFC.shape"
   ]
  },
  {
   "cell_type": "code",
   "execution_count": null,
   "id": "8d48d859",
   "metadata": {},
   "outputs": [],
   "source": []
  },
  {
   "cell_type": "code",
   "execution_count": null,
   "id": "eedfd0d9",
   "metadata": {},
   "outputs": [],
   "source": []
  },
  {
   "cell_type": "code",
   "execution_count": null,
   "id": "dedb127c",
   "metadata": {},
   "outputs": [],
   "source": []
  },
  {
   "cell_type": "code",
   "execution_count": 115,
   "id": "4192e15c",
   "metadata": {},
   "outputs": [],
   "source": [
    "import random"
   ]
  },
  {
   "cell_type": "code",
   "execution_count": 116,
   "id": "a34b0ed8",
   "metadata": {},
   "outputs": [],
   "source": [
    "random_list = [0]*(25980) + [1]*(45000-25980)"
   ]
  },
  {
   "cell_type": "code",
   "execution_count": 117,
   "id": "ac3319d6",
   "metadata": {},
   "outputs": [],
   "source": [
    "random.shuffle(random_list)"
   ]
  },
  {
   "cell_type": "code",
   "execution_count": 119,
   "id": "4f3d58c7",
   "metadata": {},
   "outputs": [
    {
     "data": {
      "text/plain": [
       "45000"
      ]
     },
     "execution_count": 119,
     "metadata": {},
     "output_type": "execute_result"
    }
   ],
   "source": [
    "len(random_list)"
   ]
  },
  {
   "cell_type": "code",
   "execution_count": 120,
   "id": "aa68503f",
   "metadata": {},
   "outputs": [
    {
     "data": {
      "text/html": [
       "<div>\n",
       "<style scoped>\n",
       "    .dataframe tbody tr th:only-of-type {\n",
       "        vertical-align: middle;\n",
       "    }\n",
       "\n",
       "    .dataframe tbody tr th {\n",
       "        vertical-align: top;\n",
       "    }\n",
       "\n",
       "    .dataframe thead th {\n",
       "        text-align: right;\n",
       "    }\n",
       "</style>\n",
       "<table border=\"1\" class=\"dataframe\">\n",
       "  <thead>\n",
       "    <tr style=\"text-align: right;\">\n",
       "      <th></th>\n",
       "      <th>OUTCOME</th>\n",
       "    </tr>\n",
       "  </thead>\n",
       "  <tbody>\n",
       "    <tr>\n",
       "      <th>0</th>\n",
       "      <td>1</td>\n",
       "    </tr>\n",
       "    <tr>\n",
       "      <th>1</th>\n",
       "      <td>0</td>\n",
       "    </tr>\n",
       "    <tr>\n",
       "      <th>2</th>\n",
       "      <td>1</td>\n",
       "    </tr>\n",
       "    <tr>\n",
       "      <th>3</th>\n",
       "      <td>1</td>\n",
       "    </tr>\n",
       "    <tr>\n",
       "      <th>4</th>\n",
       "      <td>0</td>\n",
       "    </tr>\n",
       "    <tr>\n",
       "      <th>...</th>\n",
       "      <td>...</td>\n",
       "    </tr>\n",
       "    <tr>\n",
       "      <th>44995</th>\n",
       "      <td>1</td>\n",
       "    </tr>\n",
       "    <tr>\n",
       "      <th>44996</th>\n",
       "      <td>1</td>\n",
       "    </tr>\n",
       "    <tr>\n",
       "      <th>44997</th>\n",
       "      <td>1</td>\n",
       "    </tr>\n",
       "    <tr>\n",
       "      <th>44998</th>\n",
       "      <td>1</td>\n",
       "    </tr>\n",
       "    <tr>\n",
       "      <th>44999</th>\n",
       "      <td>0</td>\n",
       "    </tr>\n",
       "  </tbody>\n",
       "</table>\n",
       "<p>45000 rows × 1 columns</p>\n",
       "</div>"
      ],
      "text/plain": [
       "       OUTCOME\n",
       "0            1\n",
       "1            0\n",
       "2            1\n",
       "3            1\n",
       "4            0\n",
       "...        ...\n",
       "44995        1\n",
       "44996        1\n",
       "44997        1\n",
       "44998        1\n",
       "44999        0\n",
       "\n",
       "[45000 rows x 1 columns]"
      ]
     },
     "execution_count": 120,
     "metadata": {},
     "output_type": "execute_result"
    }
   ],
   "source": [
    "submission_random = pd.DataFrame({\"OUTCOME\":random_list})\n",
    "submission_random"
   ]
  },
  {
   "cell_type": "code",
   "execution_count": 121,
   "id": "191613af",
   "metadata": {},
   "outputs": [],
   "source": [
    "submission_random.to_csv(r\"C:\\Users\\Shree\\Desktop\\DS Projects\\Analytics Olymipad\\Submission\\submission_random.csv\")"
   ]
  },
  {
   "cell_type": "code",
   "execution_count": null,
   "id": "2301ad04",
   "metadata": {},
   "outputs": [],
   "source": []
  }
 ],
 "metadata": {
  "kernelspec": {
   "display_name": "Python 3 (ipykernel)",
   "language": "python",
   "name": "python3"
  },
  "language_info": {
   "codemirror_mode": {
    "name": "ipython",
    "version": 3
   },
   "file_extension": ".py",
   "mimetype": "text/x-python",
   "name": "python",
   "nbconvert_exporter": "python",
   "pygments_lexer": "ipython3",
   "version": "3.9.12"
  }
 },
 "nbformat": 4,
 "nbformat_minor": 5
}
